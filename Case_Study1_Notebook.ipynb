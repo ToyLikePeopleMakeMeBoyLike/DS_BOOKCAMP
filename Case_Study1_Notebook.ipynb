{
  "cells": [
    {
      "cell_type": "markdown",
      "metadata": {
        "id": "EeO9SZYMKXex"
      },
      "source": [
        "# 1. Computing Probabilities Using Python\n",
        "## 1.1. Sample Space Analysis: An Equation-Free Approach for Measuring Uncertainty in Outcomes\n"
      ]
    },
    {
      "cell_type": "markdown",
      "metadata": {
        "id": "_MKUJI6UKXe0"
      },
      "source": [
        "A coin-flip will produce one of 2 measurable outcomes: _Heads_ or _Tails_. By storing outcomes in a Python set, we can create a **sample space** of coin-flips.\n",
        "\n",
        "**Listing 1. 1. Creating a Sample Space of Coin-Flips**"
      ]
    },
    {
      "cell_type": "code",
      "execution_count": 2,
      "metadata": {
        "id": "wU54VLN6KXe2"
      },
      "outputs": [],
      "source": [
        "sample_space = {'Heads', 'Tails'}"
      ]
    },
    {
      "cell_type": "markdown",
      "metadata": {
        "id": "GjG6vCPvKXe4"
      },
      "source": [
        "All outcomes within `sample_space` share an identical probability, which is equal to `1 / len(sample_space)`.\n",
        "\n",
        "**Listing 1. 2. Computing the probability of heads**"
      ]
    },
    {
      "cell_type": "code",
      "execution_count": 3,
      "metadata": {
        "colab": {
          "base_uri": "https://localhost:8080/"
        },
        "id": "aw8aSv3VKXe4",
        "outputId": "48608b6a-0dc3-43b1-94b1-3dcafc63d6e4"
      },
      "outputs": [
        {
          "output_type": "stream",
          "name": "stdout",
          "text": [
            "Probability of choosing heads is 0.5\n"
          ]
        }
      ],
      "source": [
        "probability_heads = 1 / len(sample_space)\n",
        "print(f'Probability of choosing heads is {probability_heads}')"
      ]
    },
    {
      "cell_type": "markdown",
      "metadata": {
        "id": "ve7FBzRZKXe5"
      },
      "source": [
        "The probability of choosing `'Heads'` equals 0.5. What is the probability that the coin lands on either heads or on\n",
        "tails? To find rigorous answers, we’ll need to define the\n",
        "concept of an **event**. An event is the subset of those elements within sample_space that\n",
        "satisfy some event condition. An **event condition** is a simple Boolean function whose input\n",
        "is a single sample_space element.\n",
        "\n",
        "**Listing 1. 3. Defining event conditions**"
      ]
    },
    {
      "cell_type": "code",
      "execution_count": 4,
      "metadata": {
        "id": "i6EUNjeeKXe6"
      },
      "outputs": [],
      "source": [
        "def is_heads_or_tails(outcome):  return outcome in {'Heads', 'Tails'}\n",
        "def is_neither(outcome): return not is_heads_or_tails(outcome)"
      ]
    },
    {
      "cell_type": "markdown",
      "metadata": {
        "id": "ZAaUNjj5KXe6"
      },
      "source": [
        "Also, for completeness-sake, lets define event conditions for the two basic events in which the coin satisfies exactly one of our two potential outcomes."
      ]
    },
    {
      "cell_type": "markdown",
      "metadata": {
        "id": "OTLKSUJlKXe7"
      },
      "source": [
        "**Listing 1. 4. Defining additional event conditions**"
      ]
    },
    {
      "cell_type": "code",
      "execution_count": 5,
      "metadata": {
        "id": "NBiRMYm6KXe7"
      },
      "outputs": [],
      "source": [
        "def is_heads(outcome): return outcome == 'Heads'\n",
        "def is_tails(outcome): return outcome == 'Tails'"
      ]
    },
    {
      "cell_type": "markdown",
      "metadata": {
        "id": "8zOkzgBXKXe7"
      },
      "source": [
        "We can pass event conditions into a generalized `get_matching_event` function. The\n",
        "function iterates through `generic_sample_space` and returns the set of outcomes where\n",
        "`event_condition(outcome)` is `True`.\n",
        "\n",
        "**Listing 1. 5. Defining an event detection function**"
      ]
    },
    {
      "cell_type": "code",
      "execution_count": 6,
      "metadata": {
        "id": "7d2Q68wpKXe8"
      },
      "outputs": [],
      "source": [
        "def get_matching_event(event_condition, generic_sample_space):\n",
        "    return set([outcome for outcome in generic_sample_space\n",
        "                if event_condition(outcome)])"
      ]
    },
    {
      "cell_type": "markdown",
      "metadata": {
        "id": "t6cRqSJdKXe8"
      },
      "source": [
        "Lets execute `get_matching_event` on our 4 event conditions.\n",
        "\n",
        "**Listing 1. 6. Detecting events using event conditions**"
      ]
    },
    {
      "cell_type": "code",
      "execution_count": 7,
      "metadata": {
        "colab": {
          "base_uri": "https://localhost:8080/"
        },
        "id": "16xaxr2CKXe8",
        "outputId": "0dfe6984-3a04-4f4e-96b9-5396f5f7df43"
      },
      "outputs": [
        {
          "output_type": "stream",
          "name": "stdout",
          "text": [
            "Event Condition: is_heads_or_tails\n",
            "Event: {'Heads', 'Tails'}\n",
            "\n",
            "Event Condition: is_heads\n",
            "Event: {'Heads'}\n",
            "\n",
            "Event Condition: is_tails\n",
            "Event: {'Tails'}\n",
            "\n",
            "Event Condition: is_neither\n",
            "Event: set()\n",
            "\n"
          ]
        }
      ],
      "source": [
        "event_conditions = [is_heads_or_tails, is_heads, is_tails, is_neither]\n",
        "\n",
        "for event_condition in event_conditions:\n",
        "    print(f\"Event Condition: {event_condition.__name__}\")\n",
        "    event = get_matching_event(event_condition, sample_space)\n",
        "    print(f'Event: {event}\\n')"
      ]
    },
    {
      "cell_type": "markdown",
      "metadata": {
        "id": "aIrKqrTCKXe8"
      },
      "source": [
        "We’ve successfully extracted 4 events from `sample_space`. The probability of each event is equal to `len(event) / len(sample_space)`.\n",
        "\n",
        "**Listing 1. 7. Computing event probabilities**"
      ]
    },
    {
      "cell_type": "code",
      "execution_count": 8,
      "metadata": {
        "colab": {
          "base_uri": "https://localhost:8080/"
        },
        "id": "sY5p5hSDKXe9",
        "outputId": "cfc91501-816f-46a6-86c1-eec4e1e7ddfe"
      },
      "outputs": [
        {
          "output_type": "stream",
          "name": "stdout",
          "text": [
            "Probability of event arising from 'is_heads_or_tails' is 1.0\n",
            "Probability of event arising from 'is_heads' is 0.5\n",
            "Probability of event arising from 'is_tails' is 0.5\n",
            "Probability of event arising from 'is_neither' is 0.0\n"
          ]
        }
      ],
      "source": [
        "def compute_probability(event_condition, generic_sample_space):\n",
        "    event = get_matching_event(event_condition, generic_sample_space)\n",
        "    return len(event) / len(generic_sample_space)\n",
        "\n",
        "for event_condition in event_conditions:\n",
        "    prob = compute_probability(event_condition, sample_space)\n",
        "    name = event_condition.__name__\n",
        "    print(f\"Probability of event arising from '{name}' is {prob}\")"
      ]
    },
    {
      "cell_type": "markdown",
      "metadata": {
        "id": "M2eWLlNBKXe9"
      },
      "source": [
        "### 1.1.1. Analyzing a Biased Coin\n",
        "Suppose a coin is 4 times more likely to land on heads relative to tails. We can represent that coin as a weighted sample space.\n",
        "\n",
        "**Listing 1. 8. Representing a weighted sample space**"
      ]
    },
    {
      "cell_type": "code",
      "execution_count": 9,
      "metadata": {
        "id": "f5VBzUvrKXe9"
      },
      "outputs": [],
      "source": [
        "weighted_sample_space = {'Heads': 4, 'Tails': 1}"
      ]
    },
    {
      "cell_type": "markdown",
      "metadata": {
        "id": "8RNgSQEeKXe9"
      },
      "source": [
        "Our new sample space is stored within a dictionary. We can redefine sample-space size as the sum of all dictionary weights.\n",
        "\n",
        "**Listing 1. 9. Checking the weighted sample space size**"
      ]
    },
    {
      "cell_type": "code",
      "execution_count": 10,
      "metadata": {
        "id": "A7n_3HDZKXe9"
      },
      "outputs": [],
      "source": [
        "sample_space_size = sum(weighted_sample_space.values())\n",
        "assert sample_space_size == 5"
      ]
    },
    {
      "cell_type": "markdown",
      "metadata": {
        "id": "WOPHG3frKXe-"
      },
      "source": [
        "We can redefine event size in similar manner. Each event is a set of outcomes. These outcomes map to weights. Summing over these weights will yield the event size.\n",
        "\n",
        "**Listing 1. 10. Checking the weighted event size**"
      ]
    },
    {
      "cell_type": "code",
      "execution_count": 11,
      "metadata": {
        "id": "_h5wYENqKXe-"
      },
      "outputs": [],
      "source": [
        "event = get_matching_event(is_heads_or_tails, weighted_sample_space)\n",
        "event_size = sum(weighted_sample_space[outcome] for outcome in event)\n",
        "assert event_size == 5"
      ]
    },
    {
      "cell_type": "markdown",
      "metadata": {
        "id": "TccdcamdKXe-"
      },
      "source": [
        "Our generalized definitions of sample-space size and event size permit us to create a\n",
        "`compute_event_probability function.`\n",
        "\n",
        "**Listing 1. 11. Defining a generalized event probability function**"
      ]
    },
    {
      "cell_type": "code",
      "execution_count": 12,
      "metadata": {
        "id": "c5e6CsUNKXe-"
      },
      "outputs": [],
      "source": [
        "def compute_event_probability(event_condition, generic_sample_space):\n",
        "    event = get_matching_event(event_condition, generic_sample_space)\n",
        "    if type(generic_sample_space) == type(set()):\n",
        "        return len(event) / len(generic_sample_space)\n",
        "\n",
        "    event_size = sum(generic_sample_space[outcome]\n",
        "                     for outcome in event)\n",
        "    return event_size / sum(generic_sample_space.values())\n"
      ]
    },
    {
      "cell_type": "markdown",
      "metadata": {
        "id": "eL1eMTEdKXe-"
      },
      "source": [
        "We can now output all the event probabilities for the biased coin without needing to redefine our 4 event condition functions.\n",
        "\n",
        "**Listing 1. 12. Computing weighted event probabilities**"
      ]
    },
    {
      "cell_type": "code",
      "execution_count": 13,
      "metadata": {
        "colab": {
          "base_uri": "https://localhost:8080/"
        },
        "id": "iQRT3ewSKXe-",
        "outputId": "c41fa89a-5701-44aa-f9ce-1b0986c39123"
      },
      "outputs": [
        {
          "output_type": "stream",
          "name": "stdout",
          "text": [
            "Probability of event arising from 'is_heads_or_tails' is 1.0\n",
            "Probability of event arising from 'is_heads' is 0.8\n",
            "Probability of event arising from 'is_tails' is 0.2\n",
            "Probability of event arising from 'is_neither' is 0.0\n"
          ]
        }
      ],
      "source": [
        "for event_condition in event_conditions:\n",
        "    prob = compute_event_probability(event_condition, weighted_sample_space)\n",
        "    name = event_condition.__name__\n",
        "    print(f\"Probability of event arising from '{name}' is {prob}\")"
      ]
    },
    {
      "cell_type": "markdown",
      "metadata": {
        "id": "KDqJzq8FKXe_"
      },
      "source": [
        "## 1.2. Computing Non-Trivial Probabilities\n",
        "### 1.2.1. Problem 1: Analyzing a Family with Four Children\n",
        "Suppose a family has 4 children. What is the probability that exactly 2 of the children are\n",
        "boys? We’ll find solve this by constructing an unweighted sample space where each outcome is a 4-element tuple\n",
        "representing one possible sequence of 4 children.\n",
        "\n",
        "**Listing 1. 13. Computing the sample space of children**"
      ]
    },
    {
      "cell_type": "code",
      "execution_count": 14,
      "metadata": {
        "id": "flsi_58YKXe_"
      },
      "outputs": [],
      "source": [
        "possible_children = ['Boy', 'Girl']\n",
        "sample_space = set()\n",
        "for child1 in possible_children:\n",
        "    for child2 in possible_children:\n",
        "        for child3 in possible_children:\n",
        "            for child4 in possible_children:\n",
        "                outcome = (child1, child2, child3, child4)\n",
        "                sample_space.add(outcome)"
      ]
    },
    {
      "cell_type": "markdown",
      "metadata": {
        "id": "DLGjJsBgKXe_"
      },
      "source": [
        "We ran 4 nested for-loops to explore the sequence of 4 births. This is not an efficient use of\n",
        "code. We can more easily generate our sample space using Python’s build-in `itertools.product` function.\n",
        "\n",
        "**Listing 1. 14. Computing the sample space using `product`**"
      ]
    },
    {
      "cell_type": "code",
      "execution_count": 15,
      "metadata": {
        "id": "0Cl6QIpBKXe_"
      },
      "outputs": [],
      "source": [
        "from itertools import product\n",
        "all_combinations = product(*(4 * [possible_children]))\n",
        "assert set(all_combinations) == sample_space"
      ]
    },
    {
      "cell_type": "markdown",
      "metadata": {
        "id": "xKybBWpkKXe_"
      },
      "source": [
        "We can make our code even more efficient by executing `set(product(possible_children, repeat=4))`.\n",
        "\n",
        "**Listing 1. 15. Passing `repeat` into `product`**"
      ]
    },
    {
      "cell_type": "code",
      "execution_count": 16,
      "metadata": {
        "id": "UMV4KwFLKXfA"
      },
      "outputs": [],
      "source": [
        "sample_space_efficient = set(product(possible_children, repeat=4))\n",
        "assert sample_space == sample_space_efficient"
      ]
    },
    {
      "cell_type": "markdown",
      "metadata": {
        "id": "D0Ye91JfKXfA"
      },
      "source": [
        "Lets calculate the fraction of `sample_space` that is composed of families with 2 boys.\n",
        "\n",
        "**Listing 1. 16. Computing the probability of 2 boys**"
      ]
    },
    {
      "cell_type": "code",
      "execution_count": 17,
      "metadata": {
        "colab": {
          "base_uri": "https://localhost:8080/"
        },
        "id": "pblj9tm0KXfA",
        "outputId": "5bd41150-aa51-46b1-d75a-9200bb492f9b"
      },
      "outputs": [
        {
          "output_type": "stream",
          "name": "stdout",
          "text": [
            "Probability of 2 boys is 0.375\n"
          ]
        }
      ],
      "source": [
        "def has_two_boys(outcome): return len([child for child in outcome\n",
        "                                      if child == 'Boy']) == 2\n",
        "\n",
        "prob = compute_event_probability(has_two_boys, sample_space)\n",
        "print(f\"Probability of 2 boys is {prob}\")"
      ]
    },
    {
      "cell_type": "markdown",
      "metadata": {
        "id": "gKh7OtKCKXfA"
      },
      "source": [
        "### 1.2.2. Problem 2: Analyzing Multiple Die Rolls\n",
        "Suppose a die is rolled 6 times. What is the probability that these 6 dice-rolls add up to 21? We’ll begin by defining the possible values of any single roll.\n",
        "\n",
        "**Listing 1. 17. Defining all possible rolls of a six-sided die**"
      ]
    },
    {
      "cell_type": "code",
      "execution_count": 18,
      "metadata": {
        "colab": {
          "base_uri": "https://localhost:8080/"
        },
        "id": "d2goDGVkKXfA",
        "outputId": "39d1b79b-9337-48f1-dc01-16173d2ae855"
      },
      "outputs": [
        {
          "output_type": "stream",
          "name": "stdout",
          "text": [
            "[1, 2, 3, 4, 5, 6]\n"
          ]
        }
      ],
      "source": [
        "possible_rolls = list(range(1, 7))\n",
        "print(possible_rolls)"
      ]
    },
    {
      "cell_type": "markdown",
      "metadata": {
        "id": "xVyVjWrjKXfB"
      },
      "source": [
        "Next, we’ll create the sample space for 6 consecutive rolls.\n",
        "\n",
        "**Listing 1. 18. The sample space for 6 consecutive die rolls**"
      ]
    },
    {
      "cell_type": "code",
      "execution_count": 19,
      "metadata": {
        "id": "wpqkx8GuKXfB"
      },
      "outputs": [],
      "source": [
        "sample_space = set(product(possible_rolls, repeat=6))"
      ]
    },
    {
      "cell_type": "markdown",
      "metadata": {
        "id": "yXEryU4pKXfB"
      },
      "source": [
        "Finally, we’ll define a `has_sum_of_21 event condition` that we’ll subsequently pass into `compute_event_probability`.\n",
        "\n",
        "**Listing 1. 19. Computing the probability of a die-roll sum**"
      ]
    },
    {
      "cell_type": "code",
      "execution_count": 20,
      "metadata": {
        "colab": {
          "base_uri": "https://localhost:8080/"
        },
        "id": "8c72uEkrKXfP",
        "outputId": "b8dade53-083c-4895-9b35-df53dfb7735f"
      },
      "outputs": [
        {
          "output_type": "stream",
          "name": "stdout",
          "text": [
            "6 rolls sum to 21 with a probability of 0.09284979423868313\n"
          ]
        }
      ],
      "source": [
        "def has_sum_of_21(outcome): return sum(outcome) == 21\n",
        "\n",
        "prob = compute_event_probability(has_sum_of_21, sample_space)\n",
        "print(f\"6 rolls sum to 21 with a probability of {prob}\")"
      ]
    },
    {
      "cell_type": "markdown",
      "metadata": {
        "id": "eA5daHxXKXfP"
      },
      "source": [
        "The above analysis can be executed in a single line of code, using Lambda expressions.\n",
        "\n",
        "**Listing 1. 20. Computing the probability using a lambda expression**"
      ]
    },
    {
      "cell_type": "code",
      "execution_count": 21,
      "metadata": {
        "id": "u7h6iEaVKXfQ"
      },
      "outputs": [],
      "source": [
        "prob = compute_event_probability(lambda x: sum(x) == 21, sample_space)\n",
        "assert prob == compute_event_probability(has_sum_of_21, sample_space)"
      ]
    },
    {
      "cell_type": "markdown",
      "metadata": {
        "id": "_TKWObXHKXfQ"
      },
      "source": [
        "### 1.2.3. Problem 3: Computing Die-Roll Probabilities using Weighted Sample Spaces\n",
        "We’ve just computed the likelihood of 6 die-roolls summing to 21. Now, lets recompute\n",
        "that probability using a weighted sample space. By mapping the die-roll sums to their occurrence counts, we will produce a `weighted_sample_space result`.\n",
        "\n",
        "**Listing 1. 21. Mapping die-roll sums to ocurrence counts**"
      ]
    },
    {
      "cell_type": "code",
      "execution_count": 22,
      "metadata": {
        "id": "t5TayADpKXfQ"
      },
      "outputs": [],
      "source": [
        "from collections import defaultdict\n",
        "weighted_sample_space = defaultdict(int)\n",
        "for outcome in sample_space:\n",
        "    total = sum(outcome)\n",
        "    weighted_sample_space[total] += 1"
      ]
    },
    {
      "cell_type": "markdown",
      "metadata": {
        "id": "RfMv2ASZKXfQ"
      },
      "source": [
        "Not all weights in `weighted_sample_space` are equal. Some of the weights are much smaller than others. For instance, there is only one way for the dice to sum to 6.\n",
        "\n",
        "**Listing 1. 22. Checking very rare die-roll combinations**"
      ]
    },
    {
      "cell_type": "code",
      "execution_count": 23,
      "metadata": {
        "id": "pOXLaA5QKXfQ"
      },
      "outputs": [],
      "source": [
        "assert weighted_sample_space[6] == 1\n",
        "assert weighted_sample_space[36] == 1"
      ]
    },
    {
      "cell_type": "markdown",
      "metadata": {
        "id": "vs_vumIrKXfR"
      },
      "source": [
        "Meanwhile, the value of `weighted_sample_space[21]` is noticeably higher.\n",
        "\n",
        "**Listing 1. 23. Checking a more common die-roll combination**"
      ]
    },
    {
      "cell_type": "code",
      "execution_count": 24,
      "metadata": {
        "colab": {
          "base_uri": "https://localhost:8080/"
        },
        "id": "MynflgdZKXfR",
        "outputId": "1134015e-6065-4981-dc7f-8032b3fd21bb"
      },
      "outputs": [
        {
          "output_type": "stream",
          "name": "stdout",
          "text": [
            "There are 4332 ways for 6 die rolls to sum to 21\n"
          ]
        }
      ],
      "source": [
        "num_combinations = weighted_sample_space[21]\n",
        "print(f\"There are {num_combinations } ways for 6 die rolls to sum to 21\")"
      ]
    },
    {
      "cell_type": "markdown",
      "metadata": {
        "id": "llfu-EimKXfR"
      },
      "source": [
        "There are 4332 ways for 6 die-rolls to sum to 21. This is why a sum of 21 is much more probable than a sum of 6.\n",
        "\n",
        "**Listing 1. 24. Exploring different ways of summing to 21**"
      ]
    },
    {
      "cell_type": "code",
      "execution_count": 25,
      "metadata": {
        "id": "MErjIR_GKXfR"
      },
      "outputs": [],
      "source": [
        "assert sum([4, 4, 4, 4, 3, 2]) == 21\n",
        "assert sum([4, 4, 4, 5, 3, 1]) == 21"
      ]
    },
    {
      "cell_type": "markdown",
      "metadata": {
        "id": "y6ftNgrlKXfR"
      },
      "source": [
        "The observed count of 4332 is equal to the length of an unweighted event whose die-rolls add up to 21. Hence, there exists a direct link between unweighted and\n",
        "weighted event probability computation.\n",
        "\n",
        "**Listing 1. 25. Comparing weighted events and regular events**"
      ]
    },
    {
      "cell_type": "code",
      "execution_count": 26,
      "metadata": {
        "id": "YKqLdYfgKXfR"
      },
      "outputs": [],
      "source": [
        "event = get_matching_event(lambda x: sum(x) == 21, sample_space)\n",
        "assert weighted_sample_space[21] == len(event)\n",
        "assert sum(weighted_sample_space.values()) == len(sample_space)"
      ]
    },
    {
      "cell_type": "markdown",
      "metadata": {
        "id": "9zuEuM4PKXfS"
      },
      "source": [
        "The final probability of rolling a 21 should remain unchanged.\n",
        "\n",
        "**Listing 1. 26. Computing the weighted event probability of die rolls**"
      ]
    },
    {
      "cell_type": "code",
      "execution_count": 27,
      "metadata": {
        "colab": {
          "base_uri": "https://localhost:8080/"
        },
        "id": "jvBiPSbCKXfS",
        "outputId": "51a58cb5-e18d-4d5a-e1bd-84216c90c23a"
      },
      "outputs": [
        {
          "output_type": "stream",
          "name": "stdout",
          "text": [
            "6 rolls sum to 21 with a probability of 0.09284979423868313\n"
          ]
        }
      ],
      "source": [
        "prob = compute_event_probability(lambda x: x == 21,\n",
        "                                 weighted_sample_space)\n",
        "assert prob == compute_event_probability(has_sum_of_21, sample_space)\n",
        "print(f\"6 rolls sum to 21 with a probability of {prob}\")"
      ]
    },
    {
      "cell_type": "markdown",
      "metadata": {
        "id": "PjeqhLBIKXfS"
      },
      "source": [
        "What is the benefit of using a weighted sample space over an unweighted one? Less\n",
        "memory usage!\n",
        "\n",
        "**Listing 1. 27. Comparing weighted to unweighted event space size**"
      ]
    },
    {
      "cell_type": "code",
      "execution_count": 28,
      "metadata": {
        "colab": {
          "base_uri": "https://localhost:8080/"
        },
        "id": "E1l9tRpSKXfT",
        "outputId": "4aa9df30-f492-4f7c-daf7-140c9d3614e3"
      },
      "outputs": [
        {
          "output_type": "stream",
          "name": "stdout",
          "text": [
            "Number of Elements in Unweighted Sample Space:\n",
            "46656\n",
            "Number of Elements in Weighted Sample Space:\n",
            "31\n"
          ]
        }
      ],
      "source": [
        "print('Number of Elements in Unweighted Sample Space:')\n",
        "print(len(sample_space))\n",
        "print('Number of Elements in Weighted Sample Space:')\n",
        "print(len(weighted_sample_space))"
      ]
    },
    {
      "cell_type": "markdown",
      "metadata": {
        "id": "vuKbBeSiKXfT"
      },
      "source": [
        "## 1.3. Computing Probabilities Over Interval Ranges\n",
        "An **interval** is the set of all the numbers that are sandwiched between 2 boundary cutoffs. Lets define an\n",
        "`is_in_interval` function that checks whether a number falls within a specified interval.\n",
        "\n",
        "**Listing 1. 28. Defining an interval function**"
      ]
    },
    {
      "cell_type": "code",
      "execution_count": 29,
      "metadata": {
        "id": "xIwd91TgKXfT"
      },
      "outputs": [],
      "source": [
        "def is_in_interval(number, minimum, maximum):\n",
        "    return minimum <= number <= maximum"
      ]
    },
    {
      "cell_type": "markdown",
      "metadata": {
        "id": "-xELIE7HKXfU"
      },
      "source": [
        "Given the `is_in_interval` function, we can compute the probability that an event’s\n",
        "associated value falls within some numeric range. Let’s compute the likelihood\n",
        "that our 6 consecutive die-rolls sum up to a value between 10 and 21.\n",
        "\n",
        "**Listing 1. 29. Computing the probability over an interval**"
      ]
    },
    {
      "cell_type": "code",
      "execution_count": 30,
      "metadata": {
        "colab": {
          "base_uri": "https://localhost:8080/"
        },
        "id": "uyYAxKBlKXfW",
        "outputId": "72671d70-41e4-43d2-ad32-94b8838c9fc9"
      },
      "outputs": [
        {
          "output_type": "stream",
          "name": "stdout",
          "text": [
            "Probability of interval is 0.5446244855967078\n"
          ]
        }
      ],
      "source": [
        "prob = compute_event_probability(lambda x: is_in_interval(x, 10, 21),\n",
        "                                 weighted_sample_space)\n",
        "print(f\"Probability of interval is {prob}\")"
      ]
    },
    {
      "cell_type": "markdown",
      "metadata": {
        "id": "T65d_xADKXfX"
      },
      "source": [
        "### 1.3.1. Evaluating Extremes Using Interval Analysis\n",
        "Suppose we observe 10 flips of an allegedly fair coin, and that coin lands on heads 8 out of 10 times. What is the probability that 10 fair coin-flips produce between 8 and 10 heads? To find out, we'll need the sample space for every possible sequence of 10 flipped coins.\n",
        "\n",
        "**Listing 1. 30. Computing the sample space for 10 coin-flips**"
      ]
    },
    {
      "cell_type": "code",
      "execution_count": 31,
      "metadata": {
        "id": "LmBJhw-oKXfY"
      },
      "outputs": [],
      "source": [
        "def generate_coin_sample_space(num_flips=10):\n",
        "    weighted_sample_space = defaultdict(int)\n",
        "    for coin_flips in product(['Heads', 'Tails'], repeat=num_flips):\n",
        "        heads_count = len([outcome for outcome in coin_flips\n",
        "                          if outcome == 'Heads'])\n",
        "        weighted_sample_space[heads_count] += 1\n",
        "\n",
        "    return weighted_sample_space\n",
        "\n",
        "weighted_sample_space = generate_coin_sample_space()\n",
        "assert weighted_sample_space[10] == 1\n",
        "assert weighted_sample_space[9] == 10"
      ]
    },
    {
      "cell_type": "markdown",
      "metadata": {
        "id": "IA313qjcKXfY"
      },
      "source": [
        "We’ll now compute the probability of observing an interval between 8 and 10 heads.\n",
        "\n",
        "**Listing 1. 31. Computing an extreme head-count probability**"
      ]
    },
    {
      "cell_type": "code",
      "execution_count": 32,
      "metadata": {
        "colab": {
          "base_uri": "https://localhost:8080/"
        },
        "id": "45ZbeYu7KXfY",
        "outputId": "5b5f7ddf-1136-4637-cd07-ec3b06345106"
      },
      "outputs": [
        {
          "output_type": "stream",
          "name": "stdout",
          "text": [
            "Probability of observing more than 7 heads is 0.0546875\n"
          ]
        }
      ],
      "source": [
        "prob = compute_event_probability(lambda x: is_in_interval(x, 8, 10),\n",
        "                                 weighted_sample_space)\n",
        "print(f\"Probability of observing more than 7 heads is {prob}\")"
      ]
    },
    {
      "cell_type": "markdown",
      "metadata": {
        "id": "7_K0poTPKXfZ"
      },
      "source": [
        "Observing 8 out of 10 tails is as extreme as observing 8 out of 10 heads. What is the probability of observing more than 7 heads or 7 tails?\n",
        "\n",
        "**Listing 1. 32. Computing an extreme interval probability**"
      ]
    },
    {
      "cell_type": "code",
      "execution_count": 33,
      "metadata": {
        "colab": {
          "base_uri": "https://localhost:8080/"
        },
        "id": "hs5jWswoKXfZ",
        "outputId": "112642f8-5adb-4b24-99be-ffe6f6cd5d72"
      },
      "outputs": [
        {
          "output_type": "stream",
          "name": "stdout",
          "text": [
            "Probability of observing more than 7 heads or 7 tails is 0.109375\n"
          ]
        }
      ],
      "source": [
        "prob = compute_event_probability(lambda x: not is_in_interval(x, 3, 7),\n",
        "                                 weighted_sample_space)\n",
        "print(f\"Probability of observing more than 7 heads or 7 tails is {prob}\")"
      ]
    },
    {
      "cell_type": "markdown",
      "metadata": {
        "id": "dsg9MXCsKXfZ"
      },
      "source": [
        "Suppose we flip the coin 10 additional times, and 8 more heads come up. This brings us to 16 heads out of 20 coin-flips. Lets find the probability of 20 fair coin-flips producing more than 15 heads or 15 tails.\n",
        "\n",
        "**Listing 1. 33. Analyzing extreme head-counts for 20 fair coin-flips**"
      ]
    },
    {
      "cell_type": "code",
      "execution_count": 34,
      "metadata": {
        "colab": {
          "base_uri": "https://localhost:8080/"
        },
        "id": "mpR6WWEcKXfa",
        "outputId": "92bc7431-2ddf-4744-f953-5309c49951ea"
      },
      "outputs": [
        {
          "output_type": "stream",
          "name": "stdout",
          "text": [
            "Probability of observing more than 15 heads or 15 tails is 0.01181793212890625\n"
          ]
        }
      ],
      "source": [
        "weighted_sample_space_20_flips = generate_coin_sample_space(num_flips=20)\n",
        "prob = compute_event_probability(lambda x: not is_in_interval(x, 5, 15),\n",
        "                                 weighted_sample_space_20_flips)\n",
        "print(f\"Probability of observing more than 15 heads or 15 tails is {prob}\")"
      ]
    },
    {
      "cell_type": "markdown",
      "metadata": {
        "id": "4sPEP0PdKXfa"
      },
      "source": [
        "# 2 Plotting Probabilities Using Matplotlib\n",
        "## 2.1. Basic Matplotlib Plots\n",
        "Lets import the Matplotlib plotting library.\n",
        "\n",
        "**Listing 2. 1. Importing Matplotlib**"
      ]
    },
    {
      "cell_type": "code",
      "execution_count": 35,
      "metadata": {
        "id": "HBFUSIogKXfa"
      },
      "outputs": [],
      "source": [
        "import matplotlib.pyplot as plt"
      ]
    },
    {
      "cell_type": "markdown",
      "metadata": {
        "id": "dD0agxFrKXfa"
      },
      "source": [
        "We will now plot some linear data using `plt.plot`.\n",
        "\n",
        "**Listing 2. 2. Plotting a linear relationship**"
      ]
    },
    {
      "cell_type": "code",
      "execution_count": 36,
      "metadata": {
        "colab": {
          "base_uri": "https://localhost:8080/",
          "height": 430
        },
        "id": "j4dnJR8yKXfb",
        "outputId": "71489cca-e55a-4fb3-c220-f12eeb37f0b4"
      },
      "outputs": [
        {
          "output_type": "display_data",
          "data": {
            "text/plain": [
              "<Figure size 640x480 with 1 Axes>"
            ],
            "image/png": "[encoded data removed]"
          },
          "metadata": {}
        }
      ],
      "source": [
        "x = range(0, 10)\n",
        "y = [2 * value for value in x]\n",
        "plt.plot(x, y)\n",
        "plt.show()"
      ]
    },
    {
      "cell_type": "markdown",
      "metadata": {
        "id": "tWnMSJcaKXfb"
      },
      "source": [
        "Our plotted points have been connected using smooth line segments. We can visualize these points individually using the `plt.scatter` method.\n",
        "\n",
        "**Listing 2. 3. Plotting individual data-points**"
      ]
    },
    {
      "cell_type": "code",
      "execution_count": 37,
      "metadata": {
        "colab": {
          "base_uri": "https://localhost:8080/",
          "height": 430
        },
        "id": "YcHd7erCKXfb",
        "outputId": "e737a6d6-9202-4647-cd96-3e3dc899431f"
      },
      "outputs": [
        {
          "output_type": "display_data",
          "data": {
            "text/plain": [
              "<Figure size 640x480 with 1 Axes>"
            ],
            "image/png": "[encoded data removed]"
          },
          "metadata": {}
        }
      ],
      "source": [
        "plt.scatter(x, y)\n",
        "plt.show()"
      ]
    },
    {
      "cell_type": "markdown",
      "metadata": {
        "id": "8TaqszPiKXfc"
      },
      "source": [
        "Suppose we want to emphasize the interval where x begins at 2 and ends at 6. We do this by shading the area under the plotted curve over the specified interval, using the `plt.fill_between` method.\n",
        "\n",
        "**Listing 2. 4. Shading an interval beneath a connected plot.**"
      ]
    },
    {
      "cell_type": "code",
      "execution_count": 38,
      "metadata": {
        "colab": {
          "base_uri": "https://localhost:8080/",
          "height": 430
        },
        "id": "k9qNBmmgKXfc",
        "outputId": "0ea80965-84ee-47e2-b3ab-231c40bbf89b"
      },
      "outputs": [
        {
          "output_type": "display_data",
          "data": {
            "text/plain": [
              "<Figure size 640x480 with 1 Axes>"
            ],
            "image/png": "[encoded data removed]"
          },
          "metadata": {}
        }
      ],
      "source": [
        "plt.plot(x, y)\n",
        "where = [is_in_interval(value, 2, 6) for value in x]\n",
        "plt.fill_between(x, y, where=where)\n",
        "plt.show()"
      ]
    },
    {
      "cell_type": "markdown",
      "metadata": {
        "id": "Uu8OPqspKXfd"
      },
      "source": [
        "Lets highlight an interval beneath a continuous line while also exposing individual coordinates.\n",
        "\n",
        "**Listing 2. 5. Exposing individual coordinates within a continuous plot**"
      ]
    },
    {
      "cell_type": "code",
      "execution_count": 39,
      "metadata": {
        "colab": {
          "base_uri": "https://localhost:8080/",
          "height": 430
        },
        "id": "KZdOpHpRKXfd",
        "outputId": "e4963068-17e6-4e4d-e0e7-f83faf0d3df9"
      },
      "outputs": [
        {
          "output_type": "display_data",
          "data": {
            "text/plain": [
              "<Figure size 640x480 with 1 Axes>"
            ],
            "image/png": "[encoded data removed]"
          },
          "metadata": {}
        }
      ],
      "source": [
        "plt.scatter(x, y)\n",
        "plt.plot(x, y)\n",
        "plt.fill_between(x, y, where=where)\n",
        "plt.show()"
      ]
    },
    {
      "cell_type": "markdown",
      "metadata": {
        "id": "8qZLWmaoKXfd"
      },
      "source": [
        "No data plot is ever truly complete without descriptive x-axis and y-axis labels. Such labels can be set using the `plt.xlabel` and `plt.ylabel` methods.\n",
        "\n",
        "**Listing 2. 6. Adding axes labels.**"
      ]
    },
    {
      "cell_type": "code",
      "execution_count": 40,
      "metadata": {
        "colab": {
          "base_uri": "https://localhost:8080/",
          "height": 449
        },
        "id": "X3SCYt6tKXfe",
        "outputId": "a390e51f-b805-4f3c-a893-e2a3fa365e01"
      },
      "outputs": [
        {
          "output_type": "display_data",
          "data": {
            "text/plain": [
              "<Figure size 640x480 with 1 Axes>"
            ],
            "image/png": "[encoded data removed]"
          },
          "metadata": {}
        }
      ],
      "source": [
        "plt.plot(x, y)\n",
        "plt.xlabel('Values between zero and ten')\n",
        "plt.ylabel('Twice the values of x')\n",
        "plt.show()"
      ]
    },
    {
      "cell_type": "markdown",
      "metadata": {
        "id": "maOoTPA_KXfe"
      },
      "source": [
        "## 2.2. Plotting Coin-Flip Probabilities\n",
        "\n",
        "Our aim is to compare the plotted data from `weighted_sample_space` and `weighted_sample_space_20_flips`. We will begin plotting the elements of `weighted_sample_space`. The x-axis will correspond to `'Head-count'`. The y-axis\n",
        "will correspond to `'Number of coin-flip combinations with x heads'`.\n",
        "\n",
        "**Listing 2. 7. Plotting the coin-flip weighted sample space**"
      ]
    },
    {
      "cell_type": "code",
      "execution_count": 41,
      "metadata": {
        "colab": {
          "base_uri": "https://localhost:8080/",
          "height": 449
        },
        "id": "BCOKCGdiKXff",
        "outputId": "81e8e83d-c63c-4100-bf29-c2f26c53d99c"
      },
      "outputs": [
        {
          "output_type": "display_data",
          "data": {
            "text/plain": [
              "<Figure size 640x480 with 1 Axes>"
            ],
            "image/png": "[encoded data removed]"
          },
          "metadata": {}
        }
      ],
      "source": [
        "x_10_flips = list(weighted_sample_space.keys())\n",
        "y_10_flips = [weighted_sample_space[key] for key in x_10_flips]\n",
        "plt.scatter(x_10_flips, y_10_flips)\n",
        "plt.xlabel('Head-count')\n",
        "plt.ylabel('Number of coin-flip combinations with x heads')\n",
        "plt.show()"
      ]
    },
    {
      "cell_type": "markdown",
      "metadata": {
        "id": "yD4RWjAOKXff"
      },
      "source": [
        "Lets plot the probabilities directly on the y-axis. The probability plot will allow us to replace our lengthy y-axis label with a more concisely stated `'Probability'`.\n",
        "\n",
        "**Listing 2. 8. Plotting the coin-flip probabilities**"
      ]
    },
    {
      "cell_type": "code",
      "execution_count": 42,
      "metadata": {
        "colab": {
          "base_uri": "https://localhost:8080/",
          "height": 449
        },
        "id": "DgPlAxVeKXff",
        "outputId": "c109b36b-e986-48a2-fa54-a7b342deecc2"
      },
      "outputs": [
        {
          "output_type": "display_data",
          "data": {
            "text/plain": [
              "<Figure size 640x480 with 1 Axes>"
            ],
            "image/png": "[encoded data removed]"
          },
          "metadata": {}
        }
      ],
      "source": [
        "sample_space_size = sum(weighted_sample_space.values())\n",
        "prob_x_10_flips = [value / sample_space_size for value in y_10_flips]\n",
        "plt.scatter(x_10_flips, prob_x_10_flips)\n",
        "plt.xlabel('Head-count')\n",
        "plt.ylabel('Probability')\n",
        "plt.show()"
      ]
    },
    {
      "cell_type": "markdown",
      "metadata": {
        "id": "ukxnZvSMKXfg"
      },
      "source": [
        "The mapping between x-values and probabilities is called a **probability distribution**. The total area beneath a\n",
        "probability distribution always equals 1.0.\n",
        "\n",
        "**Listing 2. 9. Confirming that all probabilities sum to 1.0**"
      ]
    },
    {
      "cell_type": "code",
      "execution_count": 43,
      "metadata": {
        "id": "OJHokgr7KXfg"
      },
      "outputs": [],
      "source": [
        "assert sum(prob_x_10_flips) == 1.0"
      ]
    },
    {
      "cell_type": "markdown",
      "metadata": {
        "id": "Uom54ORuKXfh"
      },
      "source": [
        "The area beneath the head-count interval of 8 through 10 is equal to the probability of observing 8 heads or more. We can visualize that area using the `plt.fill_between method`.\n",
        "\n",
        "**Listing 2. 10. Shading the interval under a probability curve**"
      ]
    },
    {
      "cell_type": "code",
      "execution_count": 44,
      "metadata": {
        "colab": {
          "base_uri": "https://localhost:8080/",
          "height": 449
        },
        "id": "pyFg__yQKXfh",
        "outputId": "9cf49634-15fc-4fcc-870c-951a5aac5522"
      },
      "outputs": [
        {
          "output_type": "display_data",
          "data": {
            "text/plain": [
              "<Figure size 640x480 with 1 Axes>"
            ],
            "image/png": "[encoded data removed]"
          },
          "metadata": {}
        }
      ],
      "source": [
        "plt.plot(x_10_flips, prob_x_10_flips)\n",
        "plt.scatter(x_10_flips, prob_x_10_flips)\n",
        "where = [is_in_interval(value, 8, 10) for value in x_10_flips]\n",
        "plt.fill_between(x_10_flips, prob_x_10_flips, where=where)\n",
        "plt.xlabel('Head-count')\n",
        "plt.ylabel('Probability')\n",
        "plt.show()"
      ]
    },
    {
      "cell_type": "markdown",
      "metadata": {
        "id": "KxaCQr6qKXfh"
      },
      "source": [
        "Now, lets also the shade the interval demarcating the probability of observing 8 tails or more.\n",
        "\n",
        "**Listing 2. 11. Shading the interval under the extremes of a probability curve**"
      ]
    },
    {
      "cell_type": "code",
      "execution_count": 45,
      "metadata": {
        "colab": {
          "base_uri": "https://localhost:8080/",
          "height": 449
        },
        "id": "LfOVInxKKXfh",
        "outputId": "5bbaba65-a6ac-4c7d-8784-3ccde586d4a5"
      },
      "outputs": [
        {
          "output_type": "display_data",
          "data": {
            "text/plain": [
              "<Figure size 640x480 with 1 Axes>"
            ],
            "image/png": "[encoded data removed]"
          },
          "metadata": {}
        }
      ],
      "source": [
        "plt.plot(x_10_flips, prob_x_10_flips)\n",
        "plt.scatter(x_10_flips, prob_x_10_flips)\n",
        "where = [not is_in_interval(value, 3, 7) for value in x_10_flips]\n",
        "plt.fill_between(x_10_flips, prob_x_10_flips, where=where)\n",
        "plt.xlabel('Head-count')\n",
        "plt.ylabel('Probability')\n",
        "plt.show()"
      ]
    },
    {
      "cell_type": "markdown",
      "metadata": {
        "id": "37sOKLs9KXfh"
      },
      "source": [
        "The two symmetrically shaded intervals cover the right and left tail-ends of the coin-flip curve.\n",
        "\n",
        "### 2.2.1. Comparing Multiple Coin-Flip Probability Distributions\n",
        "Lets extend our plot to also encompass the distribution for 20 flipped coins. We’ll plot both distributions on a single figure, though first we must compute the x-axis head-counts and y-axis probabilities for the 20 coin-flip distribution.\n",
        "\n",
        "**Listing 2. 12. Computing probabilities for a 20 coin-flip distribution.**"
      ]
    },
    {
      "cell_type": "code",
      "execution_count": 46,
      "metadata": {
        "id": "rK8vy6K7KXfi"
      },
      "outputs": [],
      "source": [
        "x_20_flips = list(weighted_sample_space_20_flips.keys())\n",
        "y_20_flips = [weighted_sample_space_20_flips[key] for key in x_20_flips]\n",
        "sample_space_size = sum(weighted_sample_space_20_flips.values())\n",
        "prob_x_20_flips = [value / sample_space_size for value in y_20_flips]"
      ]
    },
    {
      "cell_type": "markdown",
      "metadata": {
        "id": "RdBlHb2dKXfi"
      },
      "source": [
        "Now we are ready to visualize the 2 distributions simultaneously.\n",
        "\n",
        "**Listing 2. 13. Plotting two simultaneous distributions.**"
      ]
    },
    {
      "cell_type": "code",
      "execution_count": 47,
      "metadata": {
        "colab": {
          "base_uri": "https://localhost:8080/",
          "height": 449
        },
        "id": "y1HBM4UFKXfi",
        "outputId": "4cc0e446-bb69-4ec3-a3ea-bdab4f76cae1"
      },
      "outputs": [
        {
          "output_type": "display_data",
          "data": {
            "text/plain": [
              "<Figure size 640x480 with 1 Axes>"
            ],
            "image/png": "[encoded data removed]"
          },
          "metadata": {}
        }
      ],
      "source": [
        "plt.plot(x_10_flips, prob_x_10_flips, label='A: 10 coin-flips')\n",
        "plt.scatter(x_10_flips, prob_x_10_flips)\n",
        "plt.plot(x_20_flips, prob_x_20_flips, color='black', linestyle='--',\n",
        "        label='B: 20 coin-flips')\n",
        "plt.scatter(x_20_flips, prob_x_20_flips, color='k', marker='x')\n",
        "plt.xlabel('Head-count')\n",
        "plt.ylabel('Probability')\n",
        "plt.legend()\n",
        "plt.show()"
      ]
    },
    {
      "cell_type": "markdown",
      "metadata": {
        "id": "22t2EjnZKXfi"
      },
      "source": [
        "We’ve visualized our 2 distributions. Next, we’ll proceed to highlight our interval of interest (80% of heads or tails) across each of the 2 plotted curves.\n",
        "\n",
        "**Listing 2. 14. Highlighting intervals beneath two plotted distributions.**"
      ]
    },
    {
      "cell_type": "code",
      "execution_count": 48,
      "metadata": {
        "colab": {
          "base_uri": "https://localhost:8080/",
          "height": 449
        },
        "id": "JOSvz4dwKXfi",
        "outputId": "8c246855-4935-465f-e935-da43420cb8ee"
      },
      "outputs": [
        {
          "output_type": "display_data",
          "data": {
            "text/plain": [
              "<Figure size 640x480 with 1 Axes>"
            ],
            "image/png": "[encoded data removed]"
          },
          "metadata": {}
        }
      ],
      "source": [
        "plt.plot(x_10_flips, prob_x_10_flips, label='A: 10 coin-flips')\n",
        "plt.plot(x_20_flips, prob_x_20_flips, color='k', linestyle=':',\n",
        "         label='B: 20 coin-flips')\n",
        "\n",
        "where_10 = [not is_in_interval(value, 3, 7) for value in x_10_flips]\n",
        "plt.fill_between(x_10_flips, prob_x_10_flips, where=where_10)\n",
        "where_20 = [not is_in_interval(value, 5, 15) for value in x_20_flips]\n",
        "plt.fill_between(x_20_flips, prob_x_20_flips, where=where_20)\n",
        "\n",
        "plt.xlabel('Head-Count')\n",
        "plt.ylabel('Probability')\n",
        "plt.legend()\n",
        "plt.show()"
      ]
    },
    {
      "cell_type": "markdown",
      "metadata": {
        "id": "mlNU0pEaKXfi"
      },
      "source": [
        "Lets improve the visualization by aligning the distribution peaks. If we convert the head-counts into frequencies (by\n",
        "dividing by the total coin flips), then both the distribution peaks should align at a frequency of 0.5.\n",
        "\n",
        "**Listing 2. 15. Converting head-counts into frequencies**"
      ]
    },
    {
      "cell_type": "code",
      "execution_count": 49,
      "metadata": {
        "colab": {
          "base_uri": "https://localhost:8080/",
          "height": 449
        },
        "id": "uFaHYBm8KXfj",
        "outputId": "a9cd098b-4b18-4311-e35f-a66c3b936b4e"
      },
      "outputs": [
        {
          "output_type": "display_data",
          "data": {
            "text/plain": [
              "<Figure size 640x480 with 1 Axes>"
            ],
            "image/png": "[encoded data removed]"
          },
          "metadata": {}
        }
      ],
      "source": [
        "x_10_frequencies = [head_count / 10 for head_count in x_10_flips]\n",
        "x_20_frequencies = [head_count / 20 for head_count in x_20_flips]\n",
        "\n",
        "plt.plot(x_10_frequencies, prob_x_10_flips, label='A: 10 coin-flips')\n",
        "plt.plot(x_20_frequencies, prob_x_20_flips, color='k', linestyle=':', label='B: 20 coin-flips')\n",
        "plt.legend()\n",
        "\n",
        "plt.xlabel('Head-Frequency')\n",
        "plt.ylabel('Probability')\n",
        "plt.show()"
      ]
    },
    {
      "cell_type": "markdown",
      "metadata": {
        "id": "xfKaCQKUKXfj"
      },
      "source": [
        "The 2 peaks now align. However, the total area beneath each curve no longer equals 1.0. We’ll need to force the aligned curve-areas to equal 1.0 prior to doing interval comparison. The adjusted y-values will no longer be probabilities. They will become **relative likelihoods**.\n",
        "\n",
        "**Listing 2. 16. Computing relative likelihoods of frequencies**"
      ]
    },
    {
      "cell_type": "code",
      "execution_count": 50,
      "metadata": {
        "id": "9PrvCIEGKXfj"
      },
      "outputs": [],
      "source": [
        "relative_likelihood_10 = [10 * prob for prob in prob_x_10_flips]\n",
        "relative_likelihood_20 = [20 * prob for prob in prob_x_20_flips]"
      ]
    },
    {
      "cell_type": "markdown",
      "metadata": {
        "id": "ohCAH-DVKXfj"
      },
      "source": [
        "**Listing 2. 17. Plotting aligned relative likelihood curves**"
      ]
    },
    {
      "cell_type": "code",
      "execution_count": 51,
      "metadata": {
        "colab": {
          "base_uri": "https://localhost:8080/",
          "height": 449
        },
        "id": "9hju_5yMKXfj",
        "outputId": "3db41c40-6d0c-428a-ded6-1bb9abd7b096"
      },
      "outputs": [
        {
          "output_type": "display_data",
          "data": {
            "text/plain": [
              "<Figure size 640x480 with 1 Axes>"
            ],
            "image/png": "[encoded data removed]"
          },
          "metadata": {}
        }
      ],
      "source": [
        "plt.plot(x_10_frequencies, relative_likelihood_10, label='A: 10 coin-flips')\n",
        "plt.plot(x_20_frequencies, relative_likelihood_20, color='k',\n",
        "         linestyle=':', label='B: 20 coin-flips')\n",
        "\n",
        "plt.fill_between(x_10_frequencies, relative_likelihood_10, where=where_10)\n",
        "plt.fill_between(x_20_frequencies, relative_likelihood_20, where=where_20)\n",
        "\n",
        "plt.legend()\n",
        "plt.xlabel('Head-Frequency')\n",
        "plt.ylabel('Relative Likelihood')\n",
        "plt.show()"
      ]
    },
    {
      "cell_type": "markdown",
      "metadata": {
        "id": "3gxBygc6KXfk"
      },
      "source": [
        "Curve A covers a larger area over more extreme head-frequency intervals. Hence, observed recordings of such frequencies are more likely to occur when the coin-flip count is 10 and not 20."
      ]
    },
    {
      "cell_type": "markdown",
      "metadata": {
        "id": "T89hxPSwKXfk"
      },
      "source": [
        "# 3. Running Random Simulations in NumPy\n",
        "## 3.1. Simulating Random Coin-Flips and Die-Rolls Using NumPy\n",
        "Lets import the NumPy numerical computing library.\n",
        "\n",
        "**Listing 3. 1. Importing NumPy**"
      ]
    },
    {
      "cell_type": "code",
      "execution_count": 52,
      "metadata": {
        "id": "4P3i9x2EKXfk"
      },
      "outputs": [],
      "source": [
        "import numpy as np"
      ]
    },
    {
      "cell_type": "markdown",
      "metadata": {
        "id": "aIOWTAYxKXfk"
      },
      "source": [
        "We can carry out random simulations using the `np.random` module. Calling `np.random.randint(1, 7)` will simulate a single roll of a standard die.\n",
        "\n",
        "**Listing 3. 2. Simulating a randomly rolled die**"
      ]
    },
    {
      "cell_type": "code",
      "execution_count": 53,
      "metadata": {
        "id": "op6LCyw6KXfk"
      },
      "outputs": [],
      "source": [
        "die_roll = np.random.randint(1, 6)\n",
        "assert 1 <= die_roll <= 6"
      ]
    },
    {
      "cell_type": "markdown",
      "metadata": {
        "id": "xWvOvm-XKXfk"
      },
      "source": [
        "We’ll need a way of ensuring that all our random outputs can be reproduced at home. Conveniently, consistency can easily be maintained by calling `np.random.seed(0)`.\n",
        "\n",
        "**Listing 3. 3. Seeding reproducible random die-rolls**"
      ]
    },
    {
      "cell_type": "code",
      "execution_count": 54,
      "metadata": {
        "id": "k2sKHn4oKXfl"
      },
      "outputs": [],
      "source": [
        "np.random.seed(0)\n",
        "die_rolls = [np.random.randint(1, 7) for _ in range(3)]\n",
        "assert die_rolls == [5, 6, 1]"
      ]
    },
    {
      "cell_type": "markdown",
      "metadata": {
        "id": "YUC0ddqdKXfm"
      },
      "source": [
        "We’ll now use `np.random.randint(0, 2)` to simulate a single flip of an unbiased\n",
        "coin.\n",
        "\n",
        "**Listing 3. 4. Simulating one fair coin-flip**"
      ]
    },
    {
      "cell_type": "code",
      "execution_count": 55,
      "metadata": {
        "colab": {
          "base_uri": "https://localhost:8080/"
        },
        "id": "hpsTRCXHKXfn",
        "outputId": "5b7d0f3a-5fad-44db-93b7-7dd482e6d038"
      },
      "outputs": [
        {
          "output_type": "stream",
          "name": "stdout",
          "text": [
            "Coin landed on tails\n"
          ]
        }
      ],
      "source": [
        "np.random.seed(0)\n",
        "coin_flip = np.random.randint(0, 2)\n",
        "print(f\"Coin landed on {'heads' if coin_flip == 1 else 'tails'}\")"
      ]
    },
    {
      "cell_type": "markdown",
      "metadata": {
        "id": "6-hfo2VxKXfo"
      },
      "source": [
        "Next, we’ll simulate a sequence of 10 coin-flips, and then compute the observed frequency of heads.\n",
        "\n",
        "**Listing 3. 5. Simulating 10 fair coin-flips**"
      ]
    },
    {
      "cell_type": "code",
      "execution_count": 56,
      "metadata": {
        "colab": {
          "base_uri": "https://localhost:8080/"
        },
        "id": "fRpbZo5AKXfp",
        "outputId": "52582f22-d520-46b0-c37e-22a2b2c04aab"
      },
      "outputs": [
        {
          "output_type": "stream",
          "name": "stdout",
          "text": [
            "Frequency of Heads is 0.8\n"
          ]
        }
      ],
      "source": [
        "np.random.seed(0)\n",
        "def frequency_heads(coin_flip_sequence):\n",
        "    total_heads = len([head for head in coin_flip_sequence if head == 1])\n",
        "    return total_heads / len(coin_flip_sequence)\n",
        "\n",
        "coin_flips = [np.random.randint(0, 2) for _ in range(10)]\n",
        "freq_heads = frequency_heads(coin_flips)\n",
        "print(f\"Frequency of Heads is {freq_heads}\")"
      ]
    },
    {
      "cell_type": "markdown",
      "metadata": {
        "id": "LuzuIU--KXfp"
      },
      "source": [
        "Lets see what happens when we flip the coin 1000 times. After each flip, we will record the total frequency of heads observed in the sequence. Once the coin-flips are completed, we will plot the results.\n",
        "\n",
        "**Listing 3. 6. Plotting simulated fair coin-flip frequencies**"
      ]
    },
    {
      "cell_type": "code",
      "execution_count": 57,
      "metadata": {
        "colab": {
          "base_uri": "https://localhost:8080/",
          "height": 449
        },
        "id": "SAVgvbFRKXfq",
        "outputId": "136857ce-70ff-4f13-ba39-745bc2c6b33b"
      },
      "outputs": [
        {
          "output_type": "display_data",
          "data": {
            "text/plain": [
              "<Figure size 640x480 with 1 Axes>"
            ],
            "image/png": "[encoded data removed]"
          },
          "metadata": {}
        }
      ],
      "source": [
        "np.random.seed(0)\n",
        "coin_flips = []\n",
        "frequencies = []\n",
        "for _ in range(1000):\n",
        "    coin_flips.append(np.random.randint(0, 2))\n",
        "    frequencies.append(frequency_heads(coin_flips))\n",
        "\n",
        "plt.plot(list(range(1000)), frequencies)\n",
        "plt.axhline(0.5, color='k')\n",
        "plt.xlabel('Number of Coin Flips')\n",
        "plt.ylabel('Head-Frequency')\n",
        "plt.show()"
      ]
    },
    {
      "cell_type": "markdown",
      "metadata": {
        "id": "-GS_KBFzKXfq"
      },
      "source": [
        "The probability of heads slowly converges to 0.5."
      ]
    },
    {
      "cell_type": "markdown",
      "metadata": {
        "scrolled": true,
        "id": "7ILhj_FZKXfq"
      },
      "source": [
        "### 3.1.1. Analyzing Biased Coin-Flips\n",
        "Lets simulate a coin that falls on heads 70% of the time? We'll generate that biased output by calling `np.random.binomial(1, .7)`.\n",
        "\n",
        "**Listing 3. 7. Simulating biased coin-flips**"
      ]
    },
    {
      "cell_type": "code",
      "execution_count": 58,
      "metadata": {
        "colab": {
          "base_uri": "https://localhost:8080/"
        },
        "id": "7K55kjAYKXfq",
        "outputId": "d2f664ed-6002-456f-f4d4-bb69fc370aed"
      },
      "outputs": [
        {
          "output_type": "stream",
          "name": "stdout",
          "text": [
            "Lets flip the biased coin once.\n",
            "Biased coin landed on heads.\n",
            "\n",
            "Lets flip the biased coin 10 times.\n",
            "6 heads were observed out of 10 biased coin flips\n"
          ]
        }
      ],
      "source": [
        "np.random.seed(0)\n",
        "print(\"Lets flip the biased coin once.\")\n",
        "coin_flip = np.random.binomial(1, 0.7)\n",
        "print(f\"Biased coin landed on {'heads' if coin_flip == 1 else 'tails'}.\")\n",
        "\n",
        "print(\"\\nLets flip the biased coin 10 times.\")\n",
        "number_coin_flips = 10\n",
        "head_count = np.random.binomial(number_coin_flips, .7)\n",
        "print((f\"{head_count} heads were observed out of \"\n",
        "       f\"{number_coin_flips} biased coin flips\"))"
      ]
    },
    {
      "cell_type": "markdown",
      "metadata": {
        "id": "dNasLZPUKXfr"
      },
      "source": [
        "Lets generate a sequence of 1000 biased coin-flips. We’ll then check if the frequency converges to 0.7.\n",
        "\n",
        "**Listing 3. 8. Computing coin-flip frequency convergence**"
      ]
    },
    {
      "cell_type": "code",
      "execution_count": 59,
      "metadata": {
        "colab": {
          "base_uri": "https://localhost:8080/"
        },
        "id": "gizzA2VcKXfr",
        "outputId": "6ac8288d-c4a2-43b1-a059-ff5d5a2dbc0b"
      },
      "outputs": [
        {
          "output_type": "stream",
          "name": "stdout",
          "text": [
            "Frequency of Heads is 0.697\n"
          ]
        }
      ],
      "source": [
        "np.random.seed(0)\n",
        "head_count = np.random.binomial(1000, .7)\n",
        "frequency = head_count / 1000\n",
        "print(f\"Frequency of Heads is {frequency}\")"
      ]
    },
    {
      "cell_type": "markdown",
      "metadata": {
        "id": "3-NMeRLVKXfr"
      },
      "source": [
        "The frequency is .03 units smaller than the true probability of heads. Suppose we recompute the frequency of 1000 coin-flips five more times. Will any of the frequencies be equal to 0.7?\n",
        "\n",
        "**Listing 3. 9. Re-computing coin-flip frequency convergence**"
      ]
    },
    {
      "cell_type": "code",
      "execution_count": 60,
      "metadata": {
        "colab": {
          "base_uri": "https://localhost:8080/"
        },
        "id": "639_q-OiKXfr",
        "outputId": "e1d9f2a1-3b52-4a7b-9823-7eca764d48f1"
      },
      "outputs": [
        {
          "output_type": "stream",
          "name": "stdout",
          "text": [
            "Frequency at iteration 1 is 0.69\n",
            "Frequency at iteration 2 is 0.7\n",
            "Frequency equals the probability!\n",
            "\n",
            "Frequency at iteration 3 is 0.707\n",
            "Frequency at iteration 4 is 0.702\n",
            "Frequency at iteration 5 is 0.699\n"
          ]
        }
      ],
      "source": [
        "np.random.seed(0)\n",
        "assert np.random.binomial(1000, 0.7) / 1000 == 0.697\n",
        "for i in range(1, 6):\n",
        "    head_count = np.random.binomial(1000, .7)\n",
        "    frequency = head_count / 1000\n",
        "    print(f\"Frequency at iteration {i} is {frequency}\")\n",
        "    if frequency == 0.7:\n",
        "        print(\"Frequency equals the probability!\\n\")"
      ]
    },
    {
      "cell_type": "markdown",
      "metadata": {
        "id": "JzI4zGFRKXfr"
      },
      "source": [
        "Just one out the 5 iterations produced a measurement that equaled the real probability. The observed frequency appears to fluctuate over every sampling of 1000 coin-flips."
      ]
    },
    {
      "cell_type": "markdown",
      "metadata": {
        "id": "L0yGfDXgKXfs"
      },
      "source": [
        "## 3.2. Computing Confidence Intervals Using Histograms and NumPy Arrays\n",
        "We’ve previously sampled our coin over 5 iterations of 1000 coin-flips each. The sampling produced some fluctuations in the frequency. Lets explore these fluctuations by increasing our frequency count from 5 to 500.\n",
        "\n",
        "**Listing 3. 10. Computing frequencies with 500 flips-per-sample**"
      ]
    },
    {
      "cell_type": "code",
      "execution_count": 61,
      "metadata": {
        "id": "sg0lBPUmKXfs"
      },
      "outputs": [],
      "source": [
        "np.random.seed(0)\n",
        "head_count_list = [np.random.binomial(1000, 0.7) for _ in range(500)]"
      ]
    },
    {
      "cell_type": "markdown",
      "metadata": {
        "id": "ImxhbsTgKXfs"
      },
      "source": [
        "We can more efficiently sample over 500 iterations by running `np.random.binomial(coin_flip_count, 0.7, size=500)`.\n",
        "\n",
        "**Listing 3. 11. Optimizing the coin-flip frequency computation**"
      ]
    },
    {
      "cell_type": "code",
      "execution_count": 62,
      "metadata": {
        "id": "HMXmxofQKXfs"
      },
      "outputs": [],
      "source": [
        "np.random.seed(0)\n",
        "head_count_array = np.random.binomial(1000, 0.7, 500)"
      ]
    },
    {
      "cell_type": "markdown",
      "metadata": {
        "id": "bIo7CFWFKXft"
      },
      "source": [
        "The output is not a Python list, but a NumPy array data-structure. The actual numeric quantities stored\n",
        "with both `head_count_array` and `head_count_list` remain the same.\n",
        "\n",
        "**Listing 3. 12. Converting a NumPy array to a Python list**"
      ]
    },
    {
      "cell_type": "code",
      "execution_count": 63,
      "metadata": {
        "id": "vM9AJoCZKXft"
      },
      "outputs": [],
      "source": [
        "assert head_count_array.tolist() == head_count_list"
      ]
    },
    {
      "cell_type": "markdown",
      "metadata": {
        "id": "oXTire1wKXft"
      },
      "source": [
        "We can also convert our Python list into a value-equivalent NumPy array by calling np.array(head_count_list).\n",
        "\n",
        "**Listing 3. 13. Converting a Python list to a NumPy array**"
      ]
    },
    {
      "cell_type": "code",
      "execution_count": 64,
      "metadata": {
        "id": "AD81wpF6KXft"
      },
      "outputs": [],
      "source": [
        "new_array = np.array(head_count_list)\n",
        "assert np.array_equal(new_array, head_count_array) == True"
      ]
    },
    {
      "cell_type": "markdown",
      "metadata": {
        "id": "tAMeP0c1KXft"
      },
      "source": [
        "Dividing a NumPy array by some number will automatically divide all array elements by that number. Thus, executing `head_count_array / 1000` will automatically transform our head-counts into frequencies.\n",
        "\n",
        "**Listing 3. 14. Computing frequencies using NumPy**"
      ]
    },
    {
      "cell_type": "code",
      "execution_count": 65,
      "metadata": {
        "id": "VN5BI9gCKXfu"
      },
      "outputs": [],
      "source": [
        "frequency_array = head_count_array / 1000\n",
        "assert frequency_array.tolist() == [head_count / 1000\n",
        "                                    for head_count in head_count_list]\n",
        "assert frequency_array.tolist() == list(map(lambda x: x / 1000,\n",
        "                                        head_count_list))"
      ]
    },
    {
      "cell_type": "markdown",
      "metadata": {
        "id": "OBCqaJVVKXfu"
      },
      "source": [
        "Lets explore the contents of `frequency_array` in greater detail. We’ll start by printing the first 20 sampled frequencies within the array.\n",
        "\n",
        "**Listing 3. 15. Printing a NumPy frequency array**"
      ]
    },
    {
      "cell_type": "code",
      "execution_count": 66,
      "metadata": {
        "colab": {
          "base_uri": "https://localhost:8080/"
        },
        "id": "krBhWUTZKXfu",
        "outputId": "9018ed79-97b7-4813-a9d8-fa2bf0686051"
      },
      "outputs": [
        {
          "output_type": "stream",
          "name": "stdout",
          "text": [
            "[0.697 0.69  0.7   0.707 0.702 0.699 0.723 0.67  0.702 0.713 0.721 0.689\n",
            " 0.711 0.697 0.717 0.691 0.731 0.697 0.722 0.728]\n"
          ]
        }
      ],
      "source": [
        "print(frequency_array[:20])"
      ]
    },
    {
      "cell_type": "markdown",
      "metadata": {
        "id": "OWDMl2ZtKXfu"
      },
      "source": [
        "Now, lets extract the minimum and maximum frequencies values by calling the `frequency_array.min()` and\n",
        "`frequency_array.max()` array methods.\n",
        "\n",
        "**Listing 3. 16. Finding the largest and smallest frequency values**"
      ]
    },
    {
      "cell_type": "code",
      "execution_count": 67,
      "metadata": {
        "colab": {
          "base_uri": "https://localhost:8080/"
        },
        "id": "vXQGFZOkKXfu",
        "outputId": "05486b96-0a02-4bc2-e9d4-6b93c63d61de"
      },
      "outputs": [
        {
          "output_type": "stream",
          "name": "stdout",
          "text": [
            "Minimum frequency observed: 0.656\n",
            "Maximum frequency observed: 0.733\n",
            "Difference across frequency range: 0.07699999999999996\n"
          ]
        }
      ],
      "source": [
        "min_freq = frequency_array.min()\n",
        "max_freq = frequency_array.max()\n",
        "print(f\"Minimum frequency observed: {min_freq}\")\n",
        "print(f\"Maximum frequency observed: {max_freq}\")\n",
        "print(f\"Difference across frequency range: {max_freq - min_freq}\")"
      ]
    },
    {
      "cell_type": "markdown",
      "metadata": {
        "id": "IqEwCH8QKXfu"
      },
      "source": [
        "Somewhere between the frequency range of 0.656 to 0.733 lies the true probability of\n",
        "heads. How can we rationally narrow the frequency range? Plotting the data could help.\n",
        "\n",
        "**Listing 3. 17. Plotting measured frequencies**"
      ]
    },
    {
      "cell_type": "code",
      "execution_count": 68,
      "metadata": {
        "colab": {
          "base_uri": "https://localhost:8080/",
          "height": 449
        },
        "id": "LJaBL6-VKXfv",
        "outputId": "a282dcfe-1bfd-411d-8a23-50abe1205c5a"
      },
      "outputs": [
        {
          "output_type": "display_data",
          "data": {
            "text/plain": [
              "<Figure size 640x480 with 1 Axes>"
            ],
            "image/png": "[encoded data removed]"
          },
          "metadata": {}
        }
      ],
      "source": [
        "frequency_counts = defaultdict(int)\n",
        "for frequency in frequency_array:\n",
        "    frequency_counts[frequency] += 1\n",
        "\n",
        "frequencies = list(frequency_counts.keys())\n",
        "counts = [frequency_counts[freq] for freq in frequencies]\n",
        "plt.scatter(frequencies, counts)\n",
        "plt.xlabel('Frequency')\n",
        "plt.ylabel('Count')\n",
        "plt.show()"
      ]
    },
    {
      "cell_type": "markdown",
      "metadata": {
        "id": "c-qUYbdAKXfv"
      },
      "source": [
        "Our plot is somewhat flawed, since values that are very close get counted separately. Perhaps instead of treating these values as individual points, we should group such proximate frequencies together."
      ]
    },
    {
      "cell_type": "markdown",
      "metadata": {
        "id": "cn2zZ8L1KXfv"
      },
      "source": [
        "### 3.2.1. Binning Similar Points in Histogram Plots\n",
        "\n",
        "We’ll sub-divide our frequency range into N equally spaced bins, and then place all frequency values into one of those bins.  Afterwards, we’ll count the total values in each bin, and visualize the counts using a plot. This type of **histogram** plot can be carried out using the `plt.hist` method.\n",
        "\n",
        "**Listing 3. 18. Plotting a frequency histogram using plt.hist**"
      ]
    },
    {
      "cell_type": "code",
      "execution_count": 69,
      "metadata": {
        "colab": {
          "base_uri": "https://localhost:8080/",
          "height": 449
        },
        "id": "YwMX4qksKXfv",
        "outputId": "cd0a5ec6-5294-46fd-b0c6-7596c62cdc6e"
      },
      "outputs": [
        {
          "output_type": "display_data",
          "data": {
            "text/plain": [
              "<Figure size 640x480 with 1 Axes>"
            ],
            "image/png": "[encoded data removed]"
          },
          "metadata": {}
        }
      ],
      "source": [
        "plt.hist(frequency_array, bins='auto', edgecolor='black')\n",
        "plt.xlabel('Binned Frequency')\n",
        "plt.ylabel('Count')\n",
        "plt.show()"
      ]
    },
    {
      "cell_type": "markdown",
      "metadata": {
        "id": "tH6VXPp2KXfw"
      },
      "source": [
        "The total count of bins within the plot is not yet known. However, we can obtain that information using `counts`, which is a NumPy array returned by `plt.hist`.\n",
        "\n",
        "**Listing 3. 19. Counting bins in a plotted histogram**"
      ]
    },
    {
      "cell_type": "code",
      "execution_count": 70,
      "metadata": {
        "colab": {
          "base_uri": "https://localhost:8080/",
          "height": 447
        },
        "id": "xhYwQqTlKXfw",
        "outputId": "a6b3a71c-f306-4ef4-dce2-a7ff19914c91"
      },
      "outputs": [
        {
          "output_type": "stream",
          "name": "stdout",
          "text": [
            "Number of Bins: 16\n"
          ]
        },
        {
          "output_type": "display_data",
          "data": {
            "text/plain": [
              "<Figure size 640x480 with 1 Axes>"
            ],
            "image/png": "[encoded data removed]"
          },
          "metadata": {}
        }
      ],
      "source": [
        "counts, _, _ = plt.hist(frequency_array, bins='auto',\n",
        "                        edgecolor='black')\n",
        "\n",
        "print(f\"Number of Bins: {counts.size}\")"
      ]
    },
    {
      "cell_type": "markdown",
      "metadata": {
        "id": "G1R6LK9KKXfw"
      },
      "source": [
        "How wide is each bin? To find out, we'll leverage the `bin_edges` array, which is the second variable\n",
        "returned by `plt.hist`.\n",
        "\n",
        "**Listing 3. 20. Finding the width of bins within a histogram**"
      ]
    },
    {
      "cell_type": "code",
      "execution_count": 71,
      "metadata": {
        "colab": {
          "base_uri": "https://localhost:8080/",
          "height": 447
        },
        "id": "UZEWZzemKXfw",
        "outputId": "f53ab79e-d6c3-4020-b79b-9546e6a41846"
      },
      "outputs": [
        {
          "output_type": "stream",
          "name": "stdout",
          "text": [
            "Bin width: 0.004812499999999997\n"
          ]
        },
        {
          "output_type": "display_data",
          "data": {
            "text/plain": [
              "<Figure size 640x480 with 1 Axes>"
            ],
            "image/png": "[encoded data removed]"
          },
          "metadata": {}
        }
      ],
      "source": [
        "counts, bin_edges, _ = plt.hist(frequency_array, bins='auto',\n",
        "                                edgecolor='black')\n",
        "\n",
        "bin_width = bin_edges[1] - bin_edges[0]\n",
        "assert bin_width == (max_freq - min_freq) / counts.size\n",
        "print(f\"Bin width: {bin_width}\")"
      ]
    },
    {
      "cell_type": "markdown",
      "metadata": {
        "id": "q8EvmvMNKXfw"
      },
      "source": [
        "The `bin_edges` array can be used in tandem with `counts` to output the element-count and\n",
        "coverage-range for any specified bin.\n",
        "\n",
        "**Listing 3. 21. Getting a bin’s frequency and size**"
      ]
    },
    {
      "cell_type": "code",
      "execution_count": 72,
      "metadata": {
        "colab": {
          "base_uri": "https://localhost:8080/"
        },
        "id": "d6kckpf6KXfw",
        "outputId": "bf07da64-321b-409f-c284-37ca385364b9"
      },
      "outputs": [
        {
          "output_type": "stream",
          "name": "stdout",
          "text": [
            "The bin for frequency range 0.656 - 0.6608125 contains 1 element\n",
            "The bin for frequency range 0.6800625 - 0.684875 contains 20 elements\n"
          ]
        }
      ],
      "source": [
        "def output_bin_coverage(i):\n",
        "    count = int(counts[i])\n",
        "    range_start, range_end = bin_edges[i], bin_edges[i+1]\n",
        "    range_string = f\"{range_start} - {range_end}\"\n",
        "    print((f\"The bin for frequency range {range_string} contains \"\n",
        "           f\"{count} element{'' if count == 1 else 's'}\"))\n",
        "\n",
        "output_bin_coverage(0)\n",
        "output_bin_coverage(5)"
      ]
    },
    {
      "cell_type": "markdown",
      "metadata": {
        "id": "2tC5v2ooKXfx"
      },
      "source": [
        "Let’s compute the count and frequency range for the highest peak within our histogram. Conveniently, NumPy arrays have a built-in `argmax` method, which returns the index of the maximum value within a given array.\n",
        "\n",
        "**Listing 3. 22. Finding the index of an array’s maximum value**"
      ]
    },
    {
      "cell_type": "code",
      "execution_count": 73,
      "metadata": {
        "id": "DY7LUXBnKXfx"
      },
      "outputs": [],
      "source": [
        "assert counts[counts.argmax()] == counts.max()"
      ]
    },
    {
      "cell_type": "markdown",
      "metadata": {
        "id": "ZKQRHXcWKXfx"
      },
      "source": [
        "Thus, calling `output_bin_coverage(counts.argmax())` should provide us with the output we’ve requested.\n",
        "\n",
        "**Listing 3. 23. Using `argmax` to return a histogram’s peak**"
      ]
    },
    {
      "cell_type": "code",
      "execution_count": 74,
      "metadata": {
        "colab": {
          "base_uri": "https://localhost:8080/"
        },
        "id": "sl4t42ewKXfx",
        "outputId": "86e56212-4958-452d-a929-cf46e700c2c5"
      },
      "outputs": [
        {
          "output_type": "stream",
          "name": "stdout",
          "text": [
            "The bin for frequency range 0.6945 - 0.6993125 contains 72 elements\n"
          ]
        }
      ],
      "source": [
        "output_bin_coverage(counts.argmax())"
      ]
    },
    {
      "cell_type": "markdown",
      "metadata": {
        "id": "hbUplZNqKXfx"
      },
      "source": [
        "### 3.2.2. Deriving Probabilities from Histograms\n",
        "We wish to calculate the likelihood that a randomly measured frequency falls within 0.694 - 0.699. The likelihood of an interval equals its area under a curve, but only when the total plotted area sums up to 1.0. We thus must modify our histogram by transforming the counts into relative likelihoods.\n",
        "\n",
        "**Listing 3. 24. Plotting a histogram’s relative likelihoods**"
      ]
    },
    {
      "cell_type": "code",
      "execution_count": 75,
      "metadata": {
        "colab": {
          "base_uri": "https://localhost:8080/",
          "height": 449
        },
        "id": "UyPps7tjKXfx",
        "outputId": "8a6a048b-225f-4ba7-9fc7-e89bd1819189"
      },
      "outputs": [
        {
          "output_type": "display_data",
          "data": {
            "text/plain": [
              "<Figure size 640x480 with 1 Axes>"
            ],
            "image/png": "[encoded data removed]"
          },
          "metadata": {}
        }
      ],
      "source": [
        "likelihoods, bin_edges, _ = plt.hist(frequency_array, bins='auto', edgecolor='black', density=True)\n",
        "plt.xlabel('Binned Frequency')\n",
        "plt.ylabel('Relative Likelihood')\n",
        "plt.show()"
      ]
    },
    {
      "cell_type": "markdown",
      "metadata": {
        "id": "fgbMKPseKXfy"
      },
      "source": [
        "The total area beneath our histogram now sums to 1.0.\n",
        "\n",
        "**Listing 3. 25. Computing the total area under a histogram**"
      ]
    },
    {
      "cell_type": "code",
      "execution_count": 76,
      "metadata": {
        "id": "Q_3FHEAQKXfy"
      },
      "outputs": [],
      "source": [
        "assert likelihoods.sum() * bin_width == 1.0"
      ]
    },
    {
      "cell_type": "markdown",
      "metadata": {
        "id": "fX_VICc5KXfy"
      },
      "source": [
        "Thus, the area beneath the histogram’s peak is now a probability. We can compute that probability by calculating the area of the bin positioned at `likelihoods.argmax()`.\n",
        "\n",
        "**Listing 3. 26. Computing the probability of the peak frequencies**"
      ]
    },
    {
      "cell_type": "code",
      "execution_count": 77,
      "metadata": {
        "colab": {
          "base_uri": "https://localhost:8080/"
        },
        "id": "2GmKtaLTKXfy",
        "outputId": "5cb654e4-8099-4326-e056-3d7aa3d95620"
      },
      "outputs": [
        {
          "output_type": "stream",
          "name": "stdout",
          "text": [
            "Sampled frequency falls within interval 0.6945 - 0.6993125 with probability 0.144\n"
          ]
        }
      ],
      "source": [
        "index = likelihoods.argmax()\n",
        "area = likelihoods[index] * bin_width\n",
        "range_start, range_end = bin_edges[index], bin_edges[index+1]\n",
        "range_string = f\"{range_start} - {range_end}\"\n",
        "print(f\"Sampled frequency falls within interval {range_string} with probability {area}\")"
      ]
    },
    {
      "cell_type": "markdown",
      "metadata": {
        "id": "YtvxjZxOKXfy"
      },
      "source": [
        "The probability is low, but we can raise it by expanding our interval range beyond one bin. We’ll stretch the range to cover neighboring bins at `indices likelihoods.argmax() - 1` and `likelihoods.argmax() + 1`.\n",
        "\n",
        "**Listing 3. 27. Raising the probability of a frequency range**"
      ]
    },
    {
      "cell_type": "code",
      "execution_count": 78,
      "metadata": {
        "colab": {
          "base_uri": "https://localhost:8080/"
        },
        "id": "pL8H-yZ-KXfy",
        "outputId": "b3a1a5cc-8fee-45d9-cca2-d72d7d54d320"
      },
      "outputs": [
        {
          "output_type": "stream",
          "name": "stdout",
          "text": [
            "Sampled frequency falls within interval 0.6896875 - 0.704125 with probability 0.464\n"
          ]
        }
      ],
      "source": [
        "peak_index = likelihoods.argmax()\n",
        "start_index, end_index = (peak_index - 1, peak_index + 2)\n",
        "area = likelihoods[start_index: end_index + 1].sum() * bin_width\n",
        "range_start, range_end = bin_edges[start_index], bin_edges[end_index]\n",
        "range_string = f\"{range_start} - {range_end}\"\n",
        "print(f\"Sampled frequency falls within interval {range_string} with probability {area}\")"
      ]
    },
    {
      "cell_type": "markdown",
      "metadata": {
        "id": "OQeIdiHMKXfz"
      },
      "source": [
        "These three bins represent what statisticians call a 46.4% **confidence interval**. Ideally, we’d prefer a confidence interval of 95% or more. We’ll reach that confidence interval by iteratively expanding our left-most bin and right-most bin until the interval area stretches past 0.95.\n",
        "\n",
        "**Listing 3. 28. Computing a high confidence interval**"
      ]
    },
    {
      "cell_type": "code",
      "execution_count": 79,
      "metadata": {
        "colab": {
          "base_uri": "https://localhost:8080/"
        },
        "id": "_eM-Pf2HKXfz",
        "outputId": "e6f6f2ce-a120-43a1-94d6-405b621adbca"
      },
      "outputs": [
        {
          "output_type": "stream",
          "name": "stdout",
          "text": [
            "The frequency range 0.670438 - 0.723375 represents a 95.40% confidence interval\n"
          ]
        },
        {
          "output_type": "execute_result",
          "data": {
            "text/plain": [
              "(np.int64(3), np.int64(14))"
            ]
          },
          "metadata": {},
          "execution_count": 79
        }
      ],
      "source": [
        "def compute_high_confidence_interval(likelihoods, bin_width):\n",
        "    peak_index = likelihoods.argmax()\n",
        "    area = likelihoods[peak_index] * bin_width\n",
        "    start_index, end_index = peak_index, peak_index + 1\n",
        "    while area < 0.95:\n",
        "        if start_index > 0:\n",
        "            start_index -= 1\n",
        "        if end_index < likelihoods.size - 1:\n",
        "            end_index += 1\n",
        "\n",
        "        area = likelihoods[start_index: end_index + 1].sum() * bin_width\n",
        "\n",
        "    range_start, range_end = bin_edges[start_index], bin_edges[end_index]\n",
        "    range_string = f\"{range_start:.6f} - {range_end:.6f}\"\n",
        "    print((f\"The frequency range {range_string} represents a \"\n",
        "           f\"{100 * area:.2f}% confidence interval\"))\n",
        "    return start_index, end_index\n",
        "\n",
        "compute_high_confidence_interval(likelihoods, bin_width)"
      ]
    },
    {
      "cell_type": "markdown",
      "metadata": {
        "id": "L1pKsjDgKXfz"
      },
      "source": [
        "From our analysis, we’re fairly confident that the true probability lies somewhere between 0.670 and 0.723."
      ]
    },
    {
      "cell_type": "markdown",
      "metadata": {
        "id": "R758VcuJKXfz"
      },
      "source": [
        "### 3.2.3. Shrinking the Range of a High Confidence Interval\n",
        "How can we taper down our range while still maintaining a 95% confidence interval? Perhaps we should try elevating the frequency count from 500 to 100,000.\n",
        "\n",
        "**Listing 3. 29. Sampling 100,000 frequencies**"
      ]
    },
    {
      "cell_type": "code",
      "execution_count": 80,
      "metadata": {
        "id": "JYSCIBLTKXfz"
      },
      "outputs": [],
      "source": [
        "np.random.seed(0)\n",
        "head_count_array = np.random.binomial(1000, 0.7, 100000)\n",
        "frequency_array = head_count_array / 1000\n",
        "assert frequency_array.size == 100000"
      ]
    },
    {
      "cell_type": "markdown",
      "metadata": {
        "id": "TBB08DnZKXf0"
      },
      "source": [
        "We will re-compute the histogram on the updated `frequency_array`. Afterwards, we’ll visualize that histogram while also searching for a high confidence interval. Lets incorporate the confidence interval into our visualization by coloring the histogram bars within its range.\n",
        "\n",
        "**Listing 3. 30. Coloring histogram bars over an interval**"
      ]
    },
    {
      "cell_type": "code",
      "execution_count": 81,
      "metadata": {
        "colab": {
          "base_uri": "https://localhost:8080/",
          "height": 466
        },
        "id": "_lJx02ZHKXf0",
        "outputId": "12991575-e1e7-4c7d-fa96-e112a8980aeb"
      },
      "outputs": [
        {
          "output_type": "stream",
          "name": "stdout",
          "text": [
            "The frequency range 0.670429 - 0.727857 represents a 95.42% confidence interval\n"
          ]
        },
        {
          "output_type": "display_data",
          "data": {
            "text/plain": [
              "<Figure size 640x480 with 1 Axes>"
            ],
            "image/png": "[encoded data removed]"
          },
          "metadata": {}
        }
      ],
      "source": [
        "likelihoods, bin_edges, patches = plt.hist(frequency_array, bins='auto',\n",
        "                                           edgecolor='black', density=True)\n",
        "bin_width = bin_edges[1] - bin_edges[0]\n",
        "start_index, end_index = compute_high_confidence_interval(likelihoods,\n",
        "                                                          bin_width)\n",
        "\n",
        "for i in range(start_index, end_index):\n",
        "     patches[i].set_facecolor('yellow')\n",
        "plt.xlabel('Binned Frequency')\n",
        "plt.ylabel('Relative Likelihood')\n",
        "\n",
        "plt.show()"
      ]
    },
    {
      "cell_type": "markdown",
      "metadata": {
        "id": "E-DPwX_CKXf1"
      },
      "source": [
        "The new frequency range is nearly identical to the one we saw before. Raising the sampling size\n",
        "from 500 to 100,000 appears to have done little to reduce the range. Perhaps we should’ve also raised the number of coin-flips per frequency-sample.  Lets increase this value 50-fold to 50,000 coin-flips per sampled frequency.\n",
        "\n",
        "**Listing 3. 31. Sampling 5 billion flipped coins**"
      ]
    },
    {
      "cell_type": "code",
      "execution_count": 82,
      "metadata": {
        "colab": {
          "base_uri": "https://localhost:8080/",
          "height": 466
        },
        "id": "6VG-iIHXKXf1",
        "outputId": "e431868b-80b0-4c03-e99e-12f324aff216"
      },
      "outputs": [
        {
          "output_type": "stream",
          "name": "stdout",
          "text": [
            "The frequency range 0.695769 - 0.703708 represents a 95.06% confidence interval\n"
          ]
        },
        {
          "output_type": "display_data",
          "data": {
            "text/plain": [
              "<Figure size 640x480 with 1 Axes>"
            ],
            "image/png": "[encoded data removed]"
          },
          "metadata": {}
        }
      ],
      "source": [
        "np.random.seed(0)\n",
        "head_count_array = np.random.binomial(50000, 0.7, 100000)\n",
        "frequency_array = head_count_array / 50000\n",
        "\n",
        "likelihoods, bin_edges, patches = plt.hist(frequency_array, bins='auto',\n",
        "                                           edgecolor='black', density=True)\n",
        "bin_width = bin_edges[1] - bin_edges[0]\n",
        "start_index, end_index = compute_high_confidence_interval(likelihoods, bin_width)\n",
        "\n",
        "for i in range(start_index, end_index):\n",
        "     patches[i].set_facecolor('yellow')\n",
        "plt.xlabel('Binned Frequency')\n",
        "plt.ylabel('Relative Likelihood')\n",
        "\n",
        "plt.show()"
      ]
    },
    {
      "cell_type": "markdown",
      "metadata": {
        "id": "qnVTyb5JKXf3"
      },
      "source": [
        "The new 95.06% confidence interval covers a frequency range of roughly 0.695 - 0.703. We are thus exceedingly confident that our true probability is approximately 0.70."
      ]
    },
    {
      "cell_type": "markdown",
      "metadata": {
        "id": "ibyFwuVpKXf4"
      },
      "source": [
        "### 3.2.4. Computing Histograms in NumPy\n",
        "Calling the `plt.hist` method will automatically generate a histogram plot. Can we obtain the histogram likelihoods and bin-edges without creating a plot? Yes; we simply need to call `np.histogram.`\n",
        "\n",
        "**Listing 3. 32. Computing a histogram using `np.histogram`**"
      ]
    },
    {
      "cell_type": "code",
      "execution_count": 83,
      "metadata": {
        "colab": {
          "base_uri": "https://localhost:8080/"
        },
        "id": "4fAsTtzjKXf5",
        "outputId": "749dd77a-d365-40c2-a505-e4eb0e450d0b"
      },
      "outputs": [
        {
          "output_type": "stream",
          "name": "stdout",
          "text": [
            "The frequency range 0.695769 - 0.703708 represents a 95.06% confidence interval\n"
          ]
        },
        {
          "output_type": "execute_result",
          "data": {
            "text/plain": [
              "(np.int64(47), np.int64(114))"
            ]
          },
          "metadata": {},
          "execution_count": 83
        }
      ],
      "source": [
        "np.random.seed(0)\n",
        "\n",
        "likelihoods, bin_edges = np.histogram(frequency_array, bins='auto',\n",
        "                                      density=True)\n",
        "bin_width = bin_edges[1] - bin_edges[0]\n",
        "compute_high_confidence_interval(likelihoods, bin_width)"
      ]
    },
    {
      "cell_type": "markdown",
      "metadata": {
        "id": "Rd_-goV3KXf5"
      },
      "source": [
        "## 3.3. Leveraging Confidence Intervals to Analyze a Biased Deck of Cards\n",
        "Lets model a deck containing a hidden quantity of red cards. The total size of that deck is 52. The number of red cards in the deck is some unknown integer between zero and 52. We'll generate that integer using the `np.random.randint` method.\n",
        "\n",
        "**Listing 3. 33. Generating a random red card count**"
      ]
    },
    {
      "cell_type": "code",
      "execution_count": 84,
      "metadata": {
        "id": "7kiCycpHKXf6"
      },
      "outputs": [],
      "source": [
        "np.random.seed(0)\n",
        "total_cards = 52\n",
        "red_card_count = np.random.randint(0, total_cards + 1)"
      ]
    },
    {
      "cell_type": "markdown",
      "metadata": {
        "id": "5loQ-EJyKXf6"
      },
      "source": [
        "Now lets assign a value to `black_card_count`.\n",
        "\n",
        "**Listing 3. 34. Generating a black card count**"
      ]
    },
    {
      "cell_type": "code",
      "execution_count": 85,
      "metadata": {
        "id": "N234fiw1KXf7"
      },
      "outputs": [],
      "source": [
        "black_card_count = total_cards - red_card_count\n",
        "assert black_card_count != red_card_count"
      ]
    },
    {
      "cell_type": "markdown",
      "metadata": {
        "id": "Vlxq5TAPKXf7"
      },
      "source": [
        "What is the probability that the first card will be red? Well, our card deck is biased, and the outcomes are not equally likely. Thus, a weighted sample space dictionary is required to compute the probability.\n",
        "\n",
        "**Listing 3. 35. Computing card probabilities using a sample space**"
      ]
    },
    {
      "cell_type": "code",
      "execution_count": 86,
      "metadata": {
        "id": "zB_Eg3NpKXf8"
      },
      "outputs": [],
      "source": [
        "weighted_sample_space = {'red_card': red_card_count,\n",
        "                         'black_card': black_card_count}\n",
        "prob_red = compute_event_probability(lambda x: x == 'red_card',\n",
        "                                     weighted_sample_space)"
      ]
    },
    {
      "cell_type": "markdown",
      "metadata": {
        "id": "gAS02akvKXf8"
      },
      "source": [
        "Also, we can easily show that the probability of drawing a red card is equal to `red_card_count` divided by `total_cards`.\n",
        "\n",
        "**Listing 3. 36. Computing card probabilities using division**"
      ]
    },
    {
      "cell_type": "code",
      "execution_count": 87,
      "metadata": {
        "id": "TGGAi0SQKXf9"
      },
      "outputs": [],
      "source": [
        "assert prob_red == red_card_count / total_cards"
      ]
    },
    {
      "cell_type": "markdown",
      "metadata": {
        "id": "ePiWXqoJKXf9"
      },
      "source": [
        "We'll utilize `prob_red` to model a flipped-over first card using the Binomial distribution.\n",
        "\n",
        "**Listing 3. 37. Simulating a random card**"
      ]
    },
    {
      "cell_type": "code",
      "execution_count": 88,
      "metadata": {
        "colab": {
          "base_uri": "https://localhost:8080/"
        },
        "id": "O0IYsW8RKXf9",
        "outputId": "9dc391d8-8edb-4158-997c-3859ac529ef4"
      },
      "outputs": [
        {
          "output_type": "stream",
          "name": "stdout",
          "text": [
            "The first card in the shuffled deck is red\n"
          ]
        }
      ],
      "source": [
        "np.random.seed(0)\n",
        "color = 'red' if np.random.binomial(1, prob_red) else 'black'\n",
        "print(f\"The first card in the shuffled deck is {color}\")"
      ]
    },
    {
      "cell_type": "markdown",
      "metadata": {
        "id": "qh40mZRPKXf-"
      },
      "source": [
        "We’ll proceed to shuffle the deck 10 times, and flip over the first card after each shuffle.\n",
        "\n",
        "**Listing 3. 38. Simulating 10 random cards**"
      ]
    },
    {
      "cell_type": "code",
      "execution_count": 89,
      "metadata": {
        "colab": {
          "base_uri": "https://localhost:8080/"
        },
        "id": "u9Mwq0fNKXf-",
        "outputId": "312ec2c1-7b1e-4202-8efa-ea82f7413ba4"
      },
      "outputs": [
        {
          "output_type": "stream",
          "name": "stdout",
          "text": [
            "In 8 of out 10 shuffles, a red card came up first.\n"
          ]
        }
      ],
      "source": [
        "np.random.seed(0)\n",
        "red_count = np.random.binomial(10, prob_red)\n",
        "print(f\"In {red_count} of out 10 shuffles, a red card came up first.\")"
      ]
    },
    {
      "cell_type": "markdown",
      "metadata": {
        "id": "56B8MU4tKXf-"
      },
      "source": [
        "Lets now shuffle now shuffle the deck 50,000 times. Afterwards, lets compute the frequency and then re-do the shuffling procedure another 100,000 times. We use the resulting frequencies to compute a 95% confidence interval for flipping over a red card.\n",
        "\n",
        "**Listing 3. 39. Computing card-probability confidence intervals**"
      ]
    },
    {
      "cell_type": "code",
      "execution_count": 90,
      "metadata": {
        "colab": {
          "base_uri": "https://localhost:8080/"
        },
        "id": "kTJx7QhRKXf-",
        "outputId": "bbf7de83-f3ca-45d8-b933-42e37067b5ba"
      },
      "outputs": [
        {
          "output_type": "stream",
          "name": "stdout",
          "text": [
            "The frequency range 0.842865 - 0.849139 represents a 95.16% confidence interval\n"
          ]
        }
      ],
      "source": [
        "np.random.seed(0)\n",
        "red_card_count_array = np.random.binomial(50000, prob_red, 100000)\n",
        "frequency_array = red_card_count_array / 50000\n",
        "\n",
        "likelihoods, bin_edges = np.histogram(frequency_array, bins='auto',\n",
        "                                      density=True)\n",
        "bin_width = bin_edges[1] - bin_edges[0]\n",
        "start_index, end_index = compute_high_confidence_interval(likelihoods, bin_width)"
      ]
    },
    {
      "cell_type": "markdown",
      "metadata": {
        "id": "sNnwlPFuKXf-"
      },
      "source": [
        "We are highly confident that red_card_count lies between `0.842865 * total_cards` and `0.849139 *\n",
        "total_cards`. Let’s compute the likely range of `red_card_count`.\n",
        "\n",
        "**Listing 3. 40. Estimating the red card count**"
      ]
    },
    {
      "cell_type": "code",
      "execution_count": 91,
      "metadata": {
        "colab": {
          "base_uri": "https://localhost:8080/"
        },
        "id": "Y65AWqyIKXf-",
        "outputId": "7bf0d7cc-937b-4542-a19c-1d5f2e3eeee0"
      },
      "outputs": [
        {
          "output_type": "stream",
          "name": "stdout",
          "text": [
            "The number of red cards in the deck is between 44 and 44\n"
          ]
        }
      ],
      "source": [
        "range_start = round(0.842865 * total_cards)\n",
        "range_end = round(0.849139 * total_cards)\n",
        "print(f\"The number of red cards in the deck is between {range_start} and {range_end}\")"
      ]
    },
    {
      "cell_type": "markdown",
      "metadata": {
        "id": "01y7c7vvKXf_"
      },
      "source": [
        "We are very confident that there are 44 red cards in the deck. Lets check if our solution is\n",
        "correct.\n",
        "\n",
        "**Listing 3. 41. Validating the red card count**"
      ]
    },
    {
      "cell_type": "code",
      "execution_count": 92,
      "metadata": {
        "colab": {
          "base_uri": "https://localhost:8080/"
        },
        "id": "_zZvOc54KXf_",
        "outputId": "bb62211e-0973-4d9f-c72e-33498c508a7f"
      },
      "outputs": [
        {
          "output_type": "stream",
          "name": "stdout",
          "text": [
            "We are correct! There are 44 red cards in the deck\n"
          ]
        }
      ],
      "source": [
        "if red_card_count == 44:\n",
        "    print('We are correct! There are 44 red cards in the deck')\n",
        "else:\n",
        "    print('Oops! Our sampling estimation was wrong.')"
      ]
    },
    {
      "cell_type": "markdown",
      "metadata": {
        "id": "M6IAE3_NKXf_"
      },
      "source": [
        "## 3.4. Using Permutations to Shuffle Cards\n",
        "Card-shuffling requires us to randomly re-order the elements of a card-deck. That random\n",
        "re-ordering can be carried out using the `np.random.shuffle` method.\n",
        "\n",
        "**Listing 3. 42. Shuffling a 4-card deck**"
      ]
    },
    {
      "cell_type": "code",
      "execution_count": 93,
      "metadata": {
        "colab": {
          "base_uri": "https://localhost:8080/"
        },
        "id": "giGtjpu5KXf_",
        "outputId": "7b6cadd9-740d-4c2e-db51-482448451970"
      },
      "outputs": [
        {
          "output_type": "stream",
          "name": "stdout",
          "text": [
            "[0, 0, 1, 1]\n"
          ]
        }
      ],
      "source": [
        "np.random.seed(0)\n",
        "card_deck = [1, 1, 0, 0]\n",
        "np.random.shuffle(card_deck)\n",
        "print(card_deck)"
      ]
    },
    {
      "cell_type": "markdown",
      "metadata": {
        "id": "yaRCYDFGKXgA"
      },
      "source": [
        "If we prefer to carry out the shuffle while retaining a copy of the original unshuffled deck, we can do so using\n",
        "`np.random.permutation`.\n",
        "\n",
        "**Listing 3. 43. Returning a copy of the shuffled deck**"
      ]
    },
    {
      "cell_type": "code",
      "execution_count": 94,
      "metadata": {
        "colab": {
          "base_uri": "https://localhost:8080/"
        },
        "id": "xC1S7XZaKXgA",
        "outputId": "b4d69da6-c153-47af-9af7-83c542a65eb7"
      },
      "outputs": [
        {
          "output_type": "stream",
          "name": "stdout",
          "text": [
            "[0 0 1 1]\n"
          ]
        }
      ],
      "source": [
        "np.random.seed(0)\n",
        "unshuffled_deck = [1, 1, 0, 0]\n",
        "shuffled_deck = np.random.permutation(unshuffled_deck)\n",
        "assert unshuffled_deck == [1, 1, 0, 0]\n",
        "print(shuffled_deck)"
      ]
    },
    {
      "cell_type": "markdown",
      "metadata": {
        "id": "SKmQ6MttKXgA"
      },
      "source": [
        "The random ordering of elements returned by `np.random.permutation` is mathematically called a **permutation**. Calling `itertools.permutations(unshuffled_deck)` will return an iterable over every possible permutation of the deck.\n",
        "\n",
        "**Listing 3. 44. Iterating over card permutations**"
      ]
    },
    {
      "cell_type": "code",
      "execution_count": 95,
      "metadata": {
        "colab": {
          "base_uri": "https://localhost:8080/"
        },
        "id": "6bdn0PJIKXgA",
        "outputId": "f8702fd0-1843-43bc-8e2c-e03d133221c7"
      },
      "outputs": [
        {
          "output_type": "stream",
          "name": "stdout",
          "text": [
            "(1, 1, 0, 0)\n",
            "(1, 1, 0, 0)\n",
            "(1, 0, 1, 0)\n"
          ]
        }
      ],
      "source": [
        "import itertools\n",
        "for permutation in list(itertools.permutations(unshuffled_deck))[:3]:\n",
        "    print(permutation)"
      ]
    },
    {
      "cell_type": "markdown",
      "metadata": {
        "id": "mL1Hz7U0KXgA"
      },
      "source": [
        "The first 2 generated permutations are identical to each other, because identical zeros were swapped by the `permutation` function. We can confirm the swap actually took place by examining the first\n",
        "three permutations of `[0, 1, 2, 3]`.\n",
        "\n",
        "**Listing 3. 45. Monitoring permutation swaps**"
      ]
    },
    {
      "cell_type": "code",
      "execution_count": 96,
      "metadata": {
        "colab": {
          "base_uri": "https://localhost:8080/"
        },
        "id": "tcntMatqKXgB",
        "outputId": "4c3f6bd5-0aad-49e6-c2c0-f1bd14413e39"
      },
      "outputs": [
        {
          "output_type": "stream",
          "name": "stdout",
          "text": [
            "(0, 1, 2, 3)\n",
            "(0, 1, 3, 2)\n",
            "(0, 2, 1, 3)\n"
          ]
        }
      ],
      "source": [
        "for permutation in list(itertools.permutations([0, 1, 2, 3]))[:3]:\n",
        "    print(permutation)"
      ]
    },
    {
      "cell_type": "markdown",
      "metadata": {
        "id": "V2tu84Z_KXgB"
      },
      "source": [
        "Certain permutations of the 4-card deck occur more than once.  Let’s store these permutation counts within a `weighted_sample_space` dictionary.\n",
        "\n",
        "**Listing 3. 46. Computing permutation counts**"
      ]
    },
    {
      "cell_type": "code",
      "execution_count": 97,
      "metadata": {
        "colab": {
          "base_uri": "https://localhost:8080/"
        },
        "id": "SUfQPu-mKXgC",
        "outputId": "c08e307e-098f-4e45-8a45-334e9c2e9e6c"
      },
      "outputs": [
        {
          "output_type": "stream",
          "name": "stdout",
          "text": [
            "Permutation (1, 1, 0, 0) occurs 4 times\n",
            "Permutation (1, 0, 1, 0) occurs 4 times\n",
            "Permutation (1, 0, 0, 1) occurs 4 times\n",
            "Permutation (0, 1, 1, 0) occurs 4 times\n",
            "Permutation (0, 1, 0, 1) occurs 4 times\n",
            "Permutation (0, 0, 1, 1) occurs 4 times\n"
          ]
        }
      ],
      "source": [
        "weighted_sample_space = defaultdict(int)\n",
        "for permutation in itertools.permutations(unshuffled_deck):\n",
        "    weighted_sample_space[permutation] += 1\n",
        "\n",
        "for permutation, count in weighted_sample_space.items():\n",
        "    print(f\"Permutation {permutation} occurs {count} times\")"
      ]
    },
    {
      "cell_type": "markdown",
      "metadata": {
        "id": "m4yc84s6KXgC"
      },
      "source": [
        "All the permutations occur with equal frequency. Consequently, an unweighted sample space should be sufficient to compute permutation probabilities."
      ]
    },
    {
      "cell_type": "code",
      "execution_count": 98,
      "metadata": {
        "colab": {
          "base_uri": "https://localhost:8080/"
        },
        "id": "lC8vVutFKXgC",
        "outputId": "229741e0-0c13-4621-9370-2cedb089e3fc"
      },
      "outputs": [
        {
          "output_type": "stream",
          "name": "stdout",
          "text": [
            "Probability that a shuffle does not alter the deck is 0.16666666666666666\n"
          ]
        }
      ],
      "source": [
        "sample_space = set(itertools.permutations(unshuffled_deck))\n",
        "event_condition = lambda x: list(x) == unshuffled_deck\n",
        "prob = compute_event_probability(event_condition, sample_space)\n",
        "assert prob == 1 / len(sample_space)\n",
        "print(f\"Probability that a shuffle does not alter the deck is {prob}\")"
      ]
    },
    {
      "cell_type": "markdown",
      "metadata": {
        "id": "BAQQv57qKXgC"
      },
      "source": [
        "We can compute probabilities directly from the unweighted sample. Unfortunately, creating this sample space is not feasible for a deck of 52 cards. However, such a sample space could easily be computed for smaller deck of size 10.\n",
        "\n",
        "**Listing 3. 48. Computing a 10-card sample space**"
      ]
    },
    {
      "cell_type": "code",
      "execution_count": 99,
      "metadata": {
        "colab": {
          "base_uri": "https://localhost:8080/"
        },
        "id": "r7H2Y1rJKXgC",
        "outputId": "6074b430-de3a-4183-ff2e-4f513466cb36"
      },
      "outputs": [
        {
          "output_type": "stream",
          "name": "stdout",
          "text": [
            "Sample space for a 10-card deck contains 252 elements\n"
          ]
        }
      ],
      "source": [
        "red_cards = 5 * [1]\n",
        "black_cards = 5 * [0]\n",
        "unshuffled_deck = red_cards + black_cards\n",
        "sample_space = set(itertools.permutations(unshuffled_deck))\n",
        "print(f\"Sample space for a 10-card deck contains {len(sample_space)} elements\")"
      ]
    },
    {
      "cell_type": "markdown",
      "metadata": {
        "id": "fPbsk7iRKXgC"
      },
      "source": [
        "# 4. Case Study 1 Solution\n",
        "##  4.1. Overview\n",
        "Our aim is to play a card-game in which the cards are iteratively flipped until we tell the\n",
        "dealer to stop. Afterwards, one additional card is flipped. If that card is red, we win a dollar.\n",
        "Otherwise, we lose a dollar.\n",
        "\n",
        "## 4.2. Predicting Red Cards within a Shuffled Deck\n",
        "We’ll start by creating a deck holding 26 red cards and 26 black cards. Black cards are\n",
        "represented by zeroes and red cards are represented by ones.\n",
        "\n",
        "**Listing 4. 1. Modeling a 52-card deck**"
      ]
    },
    {
      "cell_type": "code",
      "execution_count": 100,
      "metadata": {
        "id": "4Wx8VrM7KXgD"
      },
      "outputs": [],
      "source": [
        "red_cards = 26 * [1]\n",
        "black_cards = 26 * [0]\n",
        "unshuffled_deck = red_cards + black_cards"
      ]
    },
    {
      "cell_type": "markdown",
      "metadata": {
        "id": "L8y2lGLIKXgD"
      },
      "source": [
        "We’ll proceed to shuffle the deck.\n",
        "\n",
        "**Listing 4. 2. Shuffling a 52-card deck**"
      ]
    },
    {
      "cell_type": "code",
      "execution_count": 101,
      "metadata": {
        "id": "LUEZ6dfvKXgD"
      },
      "outputs": [],
      "source": [
        "np.random.seed(1)\n",
        "shuffled_deck = np.random.permutation(unshuffled_deck)"
      ]
    },
    {
      "cell_type": "markdown",
      "metadata": {
        "id": "sZ7WiuYKKXgD"
      },
      "source": [
        "Now we’ll iteratively flip over the cards within the deck, stopping when the the number of red cards remaining in the deck is greater than the number of black cards remaining in the deck.\n",
        "\n",
        "**Listing 4. 3. Coding a card-game strategy**"
      ]
    },
    {
      "cell_type": "code",
      "execution_count": 102,
      "metadata": {
        "colab": {
          "base_uri": "https://localhost:8080/"
        },
        "id": "xzdF4CUfKXgD",
        "outputId": "e215498e-2681-4d2b-af5d-8cd1bcec69a2"
      },
      "outputs": [
        {
          "output_type": "stream",
          "name": "stdout",
          "text": [
            "Stopping the game at index 0.\n",
            "The next card in the deck is red.\n",
            "We have won!\n"
          ]
        }
      ],
      "source": [
        "remaining_red_cards = 26\n",
        "for i, card in enumerate(shuffled_deck[:-1]):\n",
        "    remaining_red_cards -= card\n",
        "    remaining_total_cards = 52 - i - 1\n",
        "    if remaining_red_cards / remaining_total_cards > 0.5:\n",
        "        break\n",
        "\n",
        "print(f\"Stopping the game at index {i}.\")\n",
        "final_card = shuffled_deck[i + 1]\n",
        "color = 'red' if final_card else 0\n",
        "print(f\"The next card in the deck is {'red' if final_card else 'black'}.\")\n",
        "print(f\"We have {'won' if final_card else 'lost'}!\")"
      ]
    },
    {
      "cell_type": "markdown",
      "metadata": {
        "id": "VlHe0PlTKXgD"
      },
      "source": [
        "The strategy yielded a win on our very first try. Lets generalize this strategy to halt when the\n",
        "fraction of remaining red cards is greater than an inputted `min_red_fraction` parameter.\n",
        "\n",
        "**Listing 4. 4. Generalizing the card-game strategy**"
      ]
    },
    {
      "cell_type": "code",
      "execution_count": 103,
      "metadata": {
        "id": "NVwvl4LsKXgE"
      },
      "outputs": [],
      "source": [
        "total_cards = 52\n",
        "total_red_cards = 26\n",
        "def execute_strategy(min_fraction_red=0.5, shuffled_deck=None,\n",
        "                     return_index=False):\n",
        "    if shuffled_deck is None:\n",
        "        shuffled_deck = np.random.permutation(unshuffled_deck)\n",
        "\n",
        "    remaining_red_cards = total_red_cards\n",
        "\n",
        "    for i, card in enumerate(shuffled_deck[:-1]):\n",
        "        remaining_red_cards -= card\n",
        "        fraction_red_cards = remaining_red_cards / (total_cards - i - 1)\n",
        "        if fraction_red_cards > min_fraction_red:\n",
        "            break\n",
        "\n",
        "    return (i+1, shuffled_deck[i+1]) if return_index else shuffled_deck[i+1]"
      ]
    },
    {
      "cell_type": "markdown",
      "metadata": {
        "id": "cpKv7FVzKXgE"
      },
      "source": [
        "### 4.2.1. Estimating the Probability of Strategy Success\n",
        "Lets apply our basic strategy to a series of 1000 random shuffles.\n",
        "\n",
        "**Listing 4. 5. Running strategy over 1000 shuffles**"
      ]
    },
    {
      "cell_type": "code",
      "execution_count": 104,
      "metadata": {
        "id": "HK-tKLDnKXgE"
      },
      "outputs": [],
      "source": [
        "np.random.seed(0)\n",
        "observations = np.array([execute_strategy() for _ in range(1000)])"
      ]
    },
    {
      "cell_type": "markdown",
      "metadata": {
        "id": "O0U8uNJyKXgE"
      },
      "source": [
        "The total fraction of ones in observations corresponds to the observed fraction of red cards, and therefore to the fraction of wins. We can compute this fraction by calling `observations.mean()`.\n",
        "\n",
        "**Listing 4. 6. Computing the frequency of wins**"
      ]
    },
    {
      "cell_type": "code",
      "execution_count": 105,
      "metadata": {
        "colab": {
          "base_uri": "https://localhost:8080/"
        },
        "id": "rjp82Vs1KXgE",
        "outputId": "830e7bc3-1144-47fd-aa60-76a8a2293991"
      },
      "outputs": [
        {
          "output_type": "stream",
          "name": "stdout",
          "text": [
            "The frequency of wins is 0.511\n"
          ]
        }
      ],
      "source": [
        "frequency_wins = observations.sum() / 1000\n",
        "assert frequency_wins == observations.mean()\n",
        "print(f\"The frequency of wins is {frequency_wins}\")"
      ]
    },
    {
      "cell_type": "markdown",
      "metadata": {
        "id": "8gL_UtdNKXgE"
      },
      "source": [
        "We’ve won 51.1 percent of total games! Our strategy appears to be working. 524 wins and 76 losses will net us a total profit of $22.\n",
        "\n",
        "**Listing 4. 7. Computing total profit**"
      ]
    },
    {
      "cell_type": "code",
      "execution_count": 106,
      "metadata": {
        "colab": {
          "base_uri": "https://localhost:8080/"
        },
        "id": "ZlFCOf_5KXgF",
        "outputId": "9b76c511-cb8b-4b7a-8473-03f64f8897c9"
      },
      "outputs": [
        {
          "output_type": "stream",
          "name": "stdout",
          "text": [
            "Total profit is $22.0\n"
          ]
        }
      ],
      "source": [
        "dollars_won = frequency_wins * 1000\n",
        "dollars_lost = (1 - frequency_wins) * 1000\n",
        "total_profit = dollars_won - dollars_lost\n",
        "print(f\"Total profit is ${total_profit}\")"
      ]
    },
    {
      "cell_type": "markdown",
      "metadata": {
        "id": "hiaqKfVRKXgF"
      },
      "source": [
        "The strategy worked well for a sample size of 1000 shuffles. We’ll now plot the strategy’s\n",
        "win-frequency convergence over a series of sample sizes ranging from 1 to 10,000.\n",
        "\n",
        "**Listing 4. 8. Plotting simulated frequencies of wins**"
      ]
    },
    {
      "cell_type": "code",
      "execution_count": 107,
      "metadata": {
        "colab": {
          "base_uri": "https://localhost:8080/",
          "height": 466
        },
        "id": "K-s9yfVbKXgF",
        "outputId": "e2a12d4b-23d1-4ef4-dd28-b9f797cb3241"
      },
      "outputs": [
        {
          "output_type": "display_data",
          "data": {
            "text/plain": [
              "<Figure size 640x480 with 1 Axes>"
            ],
            "image/png": "[encoded data removed]"
          },
          "metadata": {}
        },
        {
          "output_type": "stream",
          "name": "stdout",
          "text": [
            "The win-frequency for 10,000 shuffles is 0.5035035035035035\n"
          ]
        }
      ],
      "source": [
        "np.random.seed(0)\n",
        "def repeat_game(number_repeats):\n",
        "    observations = np.array([execute_strategy()\n",
        "                             for _ in range(number_repeats)])\n",
        "    return observations.mean()\n",
        "\n",
        "frequencies = []\n",
        "for i in range(1, 1000):\n",
        "    frequencies.append(repeat_game(i))\n",
        "\n",
        "plt.plot(list(range(1, 1000)), frequencies)\n",
        "plt.axhline(0.5, color='k')\n",
        "plt.xlabel('Number of Card Shuffles')\n",
        "plt.ylabel('Win-Frequency')\n",
        "plt.show()\n",
        "print(f\"The win-frequency for 10,000 shuffles is {frequencies[-1]}\")"
      ]
    },
    {
      "cell_type": "markdown",
      "metadata": {
        "id": "-kuRnBb0KXgF"
      },
      "source": [
        "Our strategy fluctuates above and below 50% through-out the entire sampling process. We'll need to compute a confidence interval to ensure that its win-rate is above 50%. We’ll compute the confidence interval by sampling 10,000 card-shuffles 300 times. Shuffling an array is a computationally expensive procedure. **The code below will take approximately 40 seconds to run. Hence, it has been commented out.**\n",
        "\n",
        "**Listing 4. 9. Computing the confidence interval for 3 million shuffles**"
      ]
    },
    {
      "cell_type": "code",
      "execution_count": 108,
      "metadata": {
        "colab": {
          "base_uri": "https://localhost:8080/",
          "height": 70
        },
        "id": "KBEuOl3rKXgF",
        "outputId": "1b690d85-01ec-45c6-ccff-009d22542aff"
      },
      "outputs": [
        {
          "output_type": "execute_result",
          "data": {
            "text/plain": [
              "\"\\nnp.random.seed(0)\\nfrequency_array = np.array([repeat_game(10000) for _ in range(300)])\\n\\nlikelihoods, bin_edges, patches = plt.hist(frequency_array, bins='auto',\\n                                           edgecolor='black', density=True)\\nbin_width = bin_edges[1] - bin_edges[0]\\nstart_index, end_index = compute_high_confidence_interval(likelihoods, bin_width)\\n\\nfor i in range(start_index, end_index):\\n     patches[i].set_facecolor('yellow')\\nplt.xlabel('Binned Frequency')\\nplt.ylabel('Relative Likelihood')\\nplt.show()\\n\""
            ],
            "application/vnd.google.colaboratory.intrinsic+json": {
              "type": "string"
            }
          },
          "metadata": {},
          "execution_count": 108
        }
      ],
      "source": [
        "\"\"\"\n",
        "np.random.seed(0)\n",
        "frequency_array = np.array([repeat_game(10000) for _ in range(300)])\n",
        "\n",
        "likelihoods, bin_edges, patches = plt.hist(frequency_array, bins='auto',\n",
        "                                           edgecolor='black', density=True)\n",
        "bin_width = bin_edges[1] - bin_edges[0]\n",
        "start_index, end_index = compute_high_confidence_interval(likelihoods, bin_width)\n",
        "\n",
        "for i in range(start_index, end_index):\n",
        "     patches[i].set_facecolor('yellow')\n",
        "plt.xlabel('Binned Frequency')\n",
        "plt.ylabel('Relative Likelihood')\n",
        "plt.show()\n",
        "\"\"\""
      ]
    },
    {
      "cell_type": "markdown",
      "metadata": {
        "id": "pItx68sRKXgF"
      },
      "source": [
        "We can narrow the confidence interval by increasing the sample size, at the expense of running time. The code below will sample 50,000 shuffles over 3,000 iterations. **The code will take approximately one hour to run. Hence, it has been commented out.**\n",
        "\n",
        "**Listing 4. 10. Computing the confidence interval for 150 million shuffles**"
      ]
    },
    {
      "cell_type": "code",
      "execution_count": 109,
      "metadata": {
        "colab": {
          "base_uri": "https://localhost:8080/",
          "height": 53
        },
        "id": "OI5GNPrfKXgG",
        "outputId": "c0ad1c29-86fc-4d01-8686-eb9e3e992134"
      },
      "outputs": [
        {
          "output_type": "execute_result",
          "data": {
            "text/plain": [
              "\"\\nnp.random.seed(0)\\n\\nfrequency_array = np.array([repeat_game(50000) for _ in range(3000)])\\nlikelihoods, bin_edges = np.histogram(frequency_array, bins='auto',\\n                                      density=True)\\nbin_width = bin_edges[1] - bin_edges[0]\\ncompute_high_confidence_interval(likelihoods, bin_width)\\n\""
            ],
            "application/vnd.google.colaboratory.intrinsic+json": {
              "type": "string"
            }
          },
          "metadata": {},
          "execution_count": 109
        }
      ],
      "source": [
        "\"\"\"\n",
        "np.random.seed(0)\n",
        "\n",
        "frequency_array = np.array([repeat_game(50000) for _ in range(3000)])\n",
        "likelihoods, bin_edges = np.histogram(frequency_array, bins='auto',\n",
        "                                      density=True)\n",
        "bin_width = bin_edges[1] - bin_edges[0]\n",
        "compute_high_confidence_interval(likelihoods, bin_width)\n",
        "\"\"\""
      ]
    },
    {
      "cell_type": "markdown",
      "metadata": {
        "id": "yxn9KPYHKXgG"
      },
      "source": [
        "We can also `min_red_fraction` from 0.5 to 0.75 and repeat the confidence interval calculation process. **As before, the code will take approximately one hour to run. Hence, it has been commented out.**\n",
        "\n",
        "**Listing 4. 11. Computing the confidence interval for an updated strategy**"
      ]
    },
    {
      "cell_type": "code",
      "execution_count": 110,
      "metadata": {
        "colab": {
          "base_uri": "https://localhost:8080/",
          "height": 70
        },
        "id": "zsCa42_sKXgG",
        "outputId": "672e92bb-d3bb-4aaf-cb14-459797fb2ec3"
      },
      "outputs": [
        {
          "output_type": "execute_result",
          "data": {
            "text/plain": [
              "\"\\nnp.random.seed(0)\\ndef repeat_game(number_repeats, min_red_fraction):\\n    observations = np.array([execute_strategy(min_red_fraction)\\n                            for _ in range(number_repeats)])\\n    return observations.mean()\\n\\nfrequency_array = np.array([repeat_game(50000, 0.75) for _ in range(3000)])\\nlikelihoods, bin_edges = np.histogram(frequency_array, bins='auto',\\n                                      density=True)\\nbin_width = bin_edges[1] - bin_edges[0]\\ncompute_high_confidence_interval(likelihoods, bin_width)\\n\""
            ],
            "application/vnd.google.colaboratory.intrinsic+json": {
              "type": "string"
            }
          },
          "metadata": {},
          "execution_count": 110
        }
      ],
      "source": [
        "\"\"\"\n",
        "np.random.seed(0)\n",
        "def repeat_game(number_repeats, min_red_fraction):\n",
        "    observations = np.array([execute_strategy(min_red_fraction)\n",
        "                            for _ in range(number_repeats)])\n",
        "    return observations.mean()\n",
        "\n",
        "frequency_array = np.array([repeat_game(50000, 0.75) for _ in range(3000)])\n",
        "likelihoods, bin_edges = np.histogram(frequency_array, bins='auto',\n",
        "                                      density=True)\n",
        "bin_width = bin_edges[1] - bin_edges[0]\n",
        "compute_high_confidence_interval(likelihoods, bin_width)\n",
        "\"\"\""
      ]
    },
    {
      "cell_type": "markdown",
      "metadata": {
        "id": "Guxe1cihKXgG"
      },
      "source": [
        "## 4.3. Optimizing Strategies using the Sample Space for a 10-Card Deck\n",
        "The code below computes the sample space for a 10-card deck. Afterwards, it applies our\n",
        "basic strategy to that sample space. Its output is the probability of a win.\n",
        "\n",
        "**Listing 4. 12. Applying a basic strategy to a 10-card deck**"
      ]
    },
    {
      "cell_type": "code",
      "execution_count": 111,
      "metadata": {
        "colab": {
          "base_uri": "https://localhost:8080/"
        },
        "id": "uM_aRKYtKXgJ",
        "outputId": "ed354c16-6185-4e63-c64e-3271644b45aa"
      },
      "outputs": [
        {
          "output_type": "stream",
          "name": "stdout",
          "text": [
            "Probability of a win is 0.5\n"
          ]
        }
      ],
      "source": [
        "total_cards = 10\n",
        "total_red_cards = int(total_cards / 2)\n",
        "total_black_cards = total_red_cards\n",
        "unshuffled_deck = [1] * total_red_cards + [0] * total_black_cards\n",
        "sample_space = set(itertools.permutations(unshuffled_deck))\n",
        "win_condition = lambda x: execute_strategy(shuffled_deck=np.array(x))\n",
        "prob_win = compute_event_probability(win_condition, sample_space)\n",
        "print(f\"Probability of a win is {prob_win}\")"
      ]
    },
    {
      "cell_type": "markdown",
      "metadata": {
        "id": "bRxU-p-rKXgJ"
      },
      "source": [
        "Surprisingly, our basic strategy yields a win only 50% of the time. Lets compute the win-probabilities over a range\n",
        "of min_red_fraction values.\n",
        "\n",
        "**Listing 4. 13. Applying multiple strategies to a 10-card deck**"
      ]
    },
    {
      "cell_type": "code",
      "execution_count": 112,
      "metadata": {
        "colab": {
          "base_uri": "https://localhost:8080/"
        },
        "id": "FhnrM8rQKXgK",
        "outputId": "850670e7-03c5-44fc-b654-57e5dffc5e1c"
      },
      "outputs": [
        {
          "output_type": "stream",
          "name": "stdout",
          "text": [
            "Lowest probability of win is 0.5\n",
            "Highest probability of win is 0.5\n"
          ]
        }
      ],
      "source": [
        "def scan_strategies():\n",
        "    fractions = [value / 100 for value in range(50, 100)]\n",
        "    probabilities = []\n",
        "    for frac in fractions:\n",
        "        win_condition = lambda x: execute_strategy(frac,\n",
        "                                                   shuffled_deck=np.array(x))\n",
        "        probabilities.append(compute_event_probability(win_condition,\n",
        "                                                       sample_space))\n",
        "    return probabilities\n",
        "\n",
        "probabilities = scan_strategies()\n",
        "print(f\"Lowest probability of win is {min(probabilities)}\")\n",
        "print(f\"Highest probability of win is {max(probabilities)}\")"
      ]
    },
    {
      "cell_type": "markdown",
      "metadata": {
        "id": "QsH-4yGEKXgL"
      },
      "source": [
        "Both the lowest and highest probabilities are equal to 0.5! Perhaps adjusting the deck size will yield some\n",
        "improvement. Let’s analyze the sample spaces of decks containing 2, 4, 6, and 8 cards.\n",
        "\n",
        "**Listing 4. 14. Applying multiple strategies to multiple decks**"
      ]
    },
    {
      "cell_type": "code",
      "execution_count": 113,
      "metadata": {
        "colab": {
          "base_uri": "https://localhost:8080/"
        },
        "id": "u5dMKjY8KXgL",
        "outputId": "2b3d579d-dfff-479a-b5c8-5c4f21421ba4"
      },
      "outputs": [
        {
          "output_type": "stream",
          "name": "stdout",
          "text": [
            "No winning strategy found for deck of size 2\n",
            "No winning strategy found for deck of size 4\n",
            "No winning strategy found for deck of size 6\n",
            "No winning strategy found for deck of size 8\n"
          ]
        }
      ],
      "source": [
        "for total_cards in [2, 4, 6, 8]:\n",
        "    total_red_cards = int(total_cards / 2)\n",
        "    total_black_cards = total_red_cards\n",
        "    unshuffled_deck = [1] * total_red_cards + [0] * total_black_cards\n",
        "\n",
        "    sample_space = set(itertools.permutations(unshuffled_deck))\n",
        "    probabilities = scan_strategies()\n",
        "    if all(prob == 0.5 for prob in probabilities):\n",
        "        print(f\"No winning strategy found for deck of size {total_cards}\")\n",
        "    else:\n",
        "        print(f\"Winning strategy found for deck of size {total_cards}\")"
      ]
    },
    {
      "cell_type": "markdown",
      "metadata": {
        "id": "ohBhBnh-KXgM"
      },
      "source": [
        "All of the strategies yield a probability of 0.5 across the small decks. Our strategies don’t work on a 10-card deck, and we have little reason to believe that they will work on a 52-card deck. To better understand why this is the case, we can re-run our simulations over a 52 card deck while plotting wins and losses relative to halting and non-halting scenarios.\n",
        "\n",
        "**Listing 4. 15. Plotting strategy outcomes across a 52-card deck**"
      ]
    },
    {
      "cell_type": "code",
      "execution_count": 114,
      "metadata": {
        "colab": {
          "base_uri": "https://localhost:8080/",
          "height": 544
        },
        "id": "1oy-qhvlKXgM",
        "outputId": "7a384187-f129-4edb-a470-16bf802b466f"
      },
      "outputs": [
        {
          "output_type": "display_data",
          "data": {
            "text/plain": [
              "<Figure size 640x480 with 1 Axes>"
            ],
            "image/png": "[encoded data removed]"
          },
          "metadata": {}
        }
      ],
      "source": [
        "np.random.seed(0)\n",
        "total_cards = 52\n",
        "total_red_cards = 26\n",
        "unshuffled_deck = red_cards + black_cards\n",
        "\n",
        "def repeat_game_detailed(number_repeats, min_red_fraction):\n",
        "\n",
        "    observations = [execute_strategy(min_red_fraction, return_index=True)\n",
        "                    for _ in range(num_repeats)]\n",
        "    successes = [index for index, card, in observations if card == 1]\n",
        "    halt_success = len([index for index in successes if index != 51])\n",
        "    no_halt_success = len(successes) - halt_success\n",
        "\n",
        "    failures = [index for index, card, in observations if card == 0]\n",
        "    halt_failure = len([index for index in failures if index != 51])\n",
        "    no_halt_failure = len(failures) - halt_failure\n",
        "    result = [halt_success, halt_failure, no_halt_success, no_halt_failure]\n",
        "    return [r / number_repeats for r in result]\n",
        "\n",
        "fractions = [value / 100 for value in range(50, 100)]\n",
        "num_repeats = 50000\n",
        "result_types = [[], [], [], []]\n",
        "\n",
        "for fraction in fractions:\n",
        "    result = repeat_game_detailed(num_repeats, fraction)\n",
        "    for i in range(4):\n",
        "        result_types[i].append(result[i])\n",
        "\n",
        "plt.plot(fractions, result_types[0],\n",
        "         label='A) Strategy Halts. We Win.')\n",
        "plt.plot(fractions, result_types[1], linestyle='--',\n",
        "         label='B) Strategy Halts. We Lose.')\n",
        "plt.plot(fractions, result_types[2], linestyle=':',\n",
        "         label='C) No Halt. We Win.')\n",
        "plt.plot(fractions, result_types[3], linestyle='-.',\n",
        "         label='D) No Halt. We Lose.')\n",
        "plt.xlabel('min_red_fraction')\n",
        "plt.ylabel('Frequency')\n",
        "plt.legend(bbox_to_anchor=(0.25, 1.0))\n",
        "plt.show()"
      ]
    },
    {
      "cell_type": "markdown",
      "metadata": {
        "id": "gqFuLK9UKXgN"
      },
      "source": [
        "The added frequencies of Scenarios A and B appear to fluctuate at around 0.5. No matter what we do, our likelihood of winning remains 50-50. Therefore, the most optimal strategy we can offer is to pick the first card in the shuffled deck.\n",
        "\n",
        "**Listing 4. 16. The most optimal winning strategy**"
      ]
    },
    {
      "cell_type": "code",
      "execution_count": 115,
      "metadata": {
        "id": "xBUzyrsBKXgN"
      },
      "outputs": [],
      "source": [
        "def optimal_strategy(shuffled_deck):\n",
        "    return shuffled_deck[0]"
      ]
    }
  ],
  "metadata": {
    "kernelspec": {
      "display_name": "Python 3",
      "language": "python",
      "name": "python3"
    },
    "language_info": {
      "codemirror_mode": {
        "name": "ipython",
        "version": 3
      },
      "file_extension": ".py",
      "mimetype": "text/x-python",
      "name": "python",
      "nbconvert_exporter": "python",
      "pygments_lexer": "ipython3",
      "version": "3.12.4"
    },
    "colab": {
      "provenance": []
    }
  },
  "nbformat": 4,
  "nbformat_minor": 0
}